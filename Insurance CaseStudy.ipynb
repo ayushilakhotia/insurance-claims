{
 "cells": [
  {
   "cell_type": "code",
   "execution_count": 488,
   "id": "b23c2e5c",
   "metadata": {},
   "outputs": [],
   "source": [
    "import numpy as np\n",
    "import pandas as pd\n",
    "from pandas import DataFrame\n",
    "from matplotlib import pyplot as plt\n",
    "import seaborn as sns\n",
    "import datetime"
   ]
  },
  {
   "cell_type": "code",
   "execution_count": 489,
   "id": "3b180d90",
   "metadata": {},
   "outputs": [],
   "source": [
    "claim = pd.read_csv(\"E:/ANALYTIXLAB/Assignments/PYTHON_ASSIGNMENTS/Python Foundation Case Study 3 - Insurance Claims Case Study/claims.csv\")  \n"
   ]
  },
  {
   "cell_type": "code",
   "execution_count": 490,
   "id": "cd5468c1",
   "metadata": {
    "scrolled": true
   },
   "outputs": [
    {
     "data": {
      "text/html": [
       "<div>\n",
       "<style scoped>\n",
       "    .dataframe tbody tr th:only-of-type {\n",
       "        vertical-align: middle;\n",
       "    }\n",
       "\n",
       "    .dataframe tbody tr th {\n",
       "        vertical-align: top;\n",
       "    }\n",
       "\n",
       "    .dataframe thead th {\n",
       "        text-align: right;\n",
       "    }\n",
       "</style>\n",
       "<table border=\"1\" class=\"dataframe\">\n",
       "  <thead>\n",
       "    <tr style=\"text-align: right;\">\n",
       "      <th></th>\n",
       "      <th>claim_id</th>\n",
       "      <th>customer_id</th>\n",
       "      <th>incident_cause</th>\n",
       "      <th>claim_date</th>\n",
       "      <th>claim_area</th>\n",
       "      <th>police_report</th>\n",
       "      <th>claim_type</th>\n",
       "      <th>claim_amount</th>\n",
       "      <th>total_policy_claims</th>\n",
       "      <th>fraudulent</th>\n",
       "    </tr>\n",
       "  </thead>\n",
       "  <tbody>\n",
       "    <tr>\n",
       "      <th>0</th>\n",
       "      <td>54004764</td>\n",
       "      <td>21868593</td>\n",
       "      <td>Driver error</td>\n",
       "      <td>11/27/2017</td>\n",
       "      <td>Auto</td>\n",
       "      <td>No</td>\n",
       "      <td>Material only</td>\n",
       "      <td>$2980</td>\n",
       "      <td>1.0</td>\n",
       "      <td>No</td>\n",
       "    </tr>\n",
       "    <tr>\n",
       "      <th>1</th>\n",
       "      <td>33985796</td>\n",
       "      <td>75740424</td>\n",
       "      <td>Crime</td>\n",
       "      <td>10/03/2018</td>\n",
       "      <td>Home</td>\n",
       "      <td>Unknown</td>\n",
       "      <td>Material only</td>\n",
       "      <td>$2980</td>\n",
       "      <td>3.0</td>\n",
       "      <td>No</td>\n",
       "    </tr>\n",
       "    <tr>\n",
       "      <th>2</th>\n",
       "      <td>53522022</td>\n",
       "      <td>30308357</td>\n",
       "      <td>Other driver error</td>\n",
       "      <td>02/02/2018</td>\n",
       "      <td>Auto</td>\n",
       "      <td>No</td>\n",
       "      <td>Material only</td>\n",
       "      <td>$3369.5</td>\n",
       "      <td>1.0</td>\n",
       "      <td>Yes</td>\n",
       "    </tr>\n",
       "    <tr>\n",
       "      <th>3</th>\n",
       "      <td>13015401</td>\n",
       "      <td>47830476</td>\n",
       "      <td>Natural causes</td>\n",
       "      <td>06/17/2018</td>\n",
       "      <td>Auto</td>\n",
       "      <td>No</td>\n",
       "      <td>Material only</td>\n",
       "      <td>$1680</td>\n",
       "      <td>1.0</td>\n",
       "      <td>No</td>\n",
       "    </tr>\n",
       "    <tr>\n",
       "      <th>4</th>\n",
       "      <td>22890252</td>\n",
       "      <td>19269962</td>\n",
       "      <td>Crime</td>\n",
       "      <td>01/13/2018</td>\n",
       "      <td>Auto</td>\n",
       "      <td>No</td>\n",
       "      <td>Material only</td>\n",
       "      <td>$2680</td>\n",
       "      <td>1.0</td>\n",
       "      <td>No</td>\n",
       "    </tr>\n",
       "    <tr>\n",
       "      <th>...</th>\n",
       "      <td>...</td>\n",
       "      <td>...</td>\n",
       "      <td>...</td>\n",
       "      <td>...</td>\n",
       "      <td>...</td>\n",
       "      <td>...</td>\n",
       "      <td>...</td>\n",
       "      <td>...</td>\n",
       "      <td>...</td>\n",
       "      <td>...</td>\n",
       "    </tr>\n",
       "    <tr>\n",
       "      <th>1095</th>\n",
       "      <td>97727122</td>\n",
       "      <td>35951012</td>\n",
       "      <td>Other driver error</td>\n",
       "      <td>06/11/2017</td>\n",
       "      <td>Auto</td>\n",
       "      <td>No</td>\n",
       "      <td>Material only</td>\n",
       "      <td>$3059</td>\n",
       "      <td>4.0</td>\n",
       "      <td>Yes</td>\n",
       "    </tr>\n",
       "    <tr>\n",
       "      <th>1096</th>\n",
       "      <td>10247193</td>\n",
       "      <td>14818669</td>\n",
       "      <td>Natural causes</td>\n",
       "      <td>03/14/2018</td>\n",
       "      <td>Auto</td>\n",
       "      <td>No</td>\n",
       "      <td>Material only</td>\n",
       "      <td>$1520</td>\n",
       "      <td>2.0</td>\n",
       "      <td>No</td>\n",
       "    </tr>\n",
       "    <tr>\n",
       "      <th>1097</th>\n",
       "      <td>79807493</td>\n",
       "      <td>85322831</td>\n",
       "      <td>Other driver error</td>\n",
       "      <td>02/09/2018</td>\n",
       "      <td>Auto</td>\n",
       "      <td>No</td>\n",
       "      <td>Material and injury</td>\n",
       "      <td>$23575</td>\n",
       "      <td>2.0</td>\n",
       "      <td>Yes</td>\n",
       "    </tr>\n",
       "    <tr>\n",
       "      <th>1098</th>\n",
       "      <td>69299345</td>\n",
       "      <td>73449366</td>\n",
       "      <td>Other causes</td>\n",
       "      <td>03/21/2018</td>\n",
       "      <td>Auto</td>\n",
       "      <td>Unknown</td>\n",
       "      <td>Material and injury</td>\n",
       "      <td>$25120</td>\n",
       "      <td>1.0</td>\n",
       "      <td>No</td>\n",
       "    </tr>\n",
       "    <tr>\n",
       "      <th>1099</th>\n",
       "      <td>58809728</td>\n",
       "      <td>43020876</td>\n",
       "      <td>Other driver error</td>\n",
       "      <td>06/04/2017</td>\n",
       "      <td>Auto</td>\n",
       "      <td>Yes</td>\n",
       "      <td>Material and injury</td>\n",
       "      <td>$36685</td>\n",
       "      <td>3.0</td>\n",
       "      <td>Yes</td>\n",
       "    </tr>\n",
       "  </tbody>\n",
       "</table>\n",
       "<p>1100 rows × 10 columns</p>\n",
       "</div>"
      ],
      "text/plain": [
       "      claim_id  customer_id      incident_cause  claim_date claim_area  \\\n",
       "0     54004764     21868593        Driver error  11/27/2017       Auto   \n",
       "1     33985796     75740424               Crime  10/03/2018       Home   \n",
       "2     53522022     30308357  Other driver error  02/02/2018       Auto   \n",
       "3     13015401     47830476      Natural causes  06/17/2018       Auto   \n",
       "4     22890252     19269962               Crime  01/13/2018       Auto   \n",
       "...        ...          ...                 ...         ...        ...   \n",
       "1095  97727122     35951012  Other driver error  06/11/2017       Auto   \n",
       "1096  10247193     14818669      Natural causes  03/14/2018       Auto   \n",
       "1097  79807493     85322831  Other driver error  02/09/2018       Auto   \n",
       "1098  69299345     73449366        Other causes  03/21/2018       Auto   \n",
       "1099  58809728     43020876  Other driver error  06/04/2017       Auto   \n",
       "\n",
       "     police_report           claim_type claim_amount  total_policy_claims  \\\n",
       "0               No        Material only        $2980                  1.0   \n",
       "1          Unknown        Material only        $2980                  3.0   \n",
       "2               No        Material only      $3369.5                  1.0   \n",
       "3               No        Material only        $1680                  1.0   \n",
       "4               No        Material only        $2680                  1.0   \n",
       "...            ...                  ...          ...                  ...   \n",
       "1095            No        Material only        $3059                  4.0   \n",
       "1096            No        Material only        $1520                  2.0   \n",
       "1097            No  Material and injury       $23575                  2.0   \n",
       "1098       Unknown  Material and injury       $25120                  1.0   \n",
       "1099           Yes  Material and injury       $36685                  3.0   \n",
       "\n",
       "     fraudulent  \n",
       "0            No  \n",
       "1            No  \n",
       "2           Yes  \n",
       "3            No  \n",
       "4            No  \n",
       "...         ...  \n",
       "1095        Yes  \n",
       "1096         No  \n",
       "1097        Yes  \n",
       "1098         No  \n",
       "1099        Yes  \n",
       "\n",
       "[1100 rows x 10 columns]"
      ]
     },
     "execution_count": 490,
     "metadata": {},
     "output_type": "execute_result"
    }
   ],
   "source": [
    "claim"
   ]
  },
  {
   "cell_type": "code",
   "execution_count": 491,
   "id": "ea2608cd",
   "metadata": {},
   "outputs": [],
   "source": [
    "customer =  pd.read_csv(\"E:/ANALYTIXLAB/Assignments/PYTHON_ASSIGNMENTS/Python Foundation Case Study 3 - Insurance Claims Case Study/cust_demographics.csv\")"
   ]
  },
  {
   "cell_type": "code",
   "execution_count": 492,
   "id": "dbcaf2ca",
   "metadata": {
    "scrolled": true
   },
   "outputs": [
    {
     "data": {
      "text/html": [
       "<div>\n",
       "<style scoped>\n",
       "    .dataframe tbody tr th:only-of-type {\n",
       "        vertical-align: middle;\n",
       "    }\n",
       "\n",
       "    .dataframe tbody tr th {\n",
       "        vertical-align: top;\n",
       "    }\n",
       "\n",
       "    .dataframe thead th {\n",
       "        text-align: right;\n",
       "    }\n",
       "</style>\n",
       "<table border=\"1\" class=\"dataframe\">\n",
       "  <thead>\n",
       "    <tr style=\"text-align: right;\">\n",
       "      <th></th>\n",
       "      <th>CUST_ID</th>\n",
       "      <th>gender</th>\n",
       "      <th>DateOfBirth</th>\n",
       "      <th>State</th>\n",
       "      <th>Contact</th>\n",
       "      <th>Segment</th>\n",
       "    </tr>\n",
       "  </thead>\n",
       "  <tbody>\n",
       "    <tr>\n",
       "      <th>0</th>\n",
       "      <td>21868593</td>\n",
       "      <td>Female</td>\n",
       "      <td>12-Jan-79</td>\n",
       "      <td>VT</td>\n",
       "      <td>789-916-8172</td>\n",
       "      <td>Platinum</td>\n",
       "    </tr>\n",
       "    <tr>\n",
       "      <th>1</th>\n",
       "      <td>75740424</td>\n",
       "      <td>Female</td>\n",
       "      <td>13-Jan-70</td>\n",
       "      <td>ME</td>\n",
       "      <td>265-543-1264</td>\n",
       "      <td>Silver</td>\n",
       "    </tr>\n",
       "    <tr>\n",
       "      <th>2</th>\n",
       "      <td>30308357</td>\n",
       "      <td>Female</td>\n",
       "      <td>11-Mar-84</td>\n",
       "      <td>TN</td>\n",
       "      <td>798-631-4758</td>\n",
       "      <td>Silver</td>\n",
       "    </tr>\n",
       "    <tr>\n",
       "      <th>3</th>\n",
       "      <td>47830476</td>\n",
       "      <td>Female</td>\n",
       "      <td>01-May-86</td>\n",
       "      <td>MA</td>\n",
       "      <td>413-187-7945</td>\n",
       "      <td>Silver</td>\n",
       "    </tr>\n",
       "    <tr>\n",
       "      <th>4</th>\n",
       "      <td>19269962</td>\n",
       "      <td>Male</td>\n",
       "      <td>13-May-77</td>\n",
       "      <td>NV</td>\n",
       "      <td>956-871-8691</td>\n",
       "      <td>Gold</td>\n",
       "    </tr>\n",
       "    <tr>\n",
       "      <th>...</th>\n",
       "      <td>...</td>\n",
       "      <td>...</td>\n",
       "      <td>...</td>\n",
       "      <td>...</td>\n",
       "      <td>...</td>\n",
       "      <td>...</td>\n",
       "    </tr>\n",
       "    <tr>\n",
       "      <th>1080</th>\n",
       "      <td>79539873</td>\n",
       "      <td>Female</td>\n",
       "      <td>15-Mar-81</td>\n",
       "      <td>ND</td>\n",
       "      <td>459-425-4319</td>\n",
       "      <td>Platinum</td>\n",
       "    </tr>\n",
       "    <tr>\n",
       "      <th>1081</th>\n",
       "      <td>42364152</td>\n",
       "      <td>Female</td>\n",
       "      <td>07-Jul-96</td>\n",
       "      <td>ID</td>\n",
       "      <td>529-462-1635</td>\n",
       "      <td>Silver</td>\n",
       "    </tr>\n",
       "    <tr>\n",
       "      <th>1082</th>\n",
       "      <td>19888166</td>\n",
       "      <td>Male</td>\n",
       "      <td>11-Apr-90</td>\n",
       "      <td>WI</td>\n",
       "      <td>712-651-9613</td>\n",
       "      <td>Gold</td>\n",
       "    </tr>\n",
       "    <tr>\n",
       "      <th>1083</th>\n",
       "      <td>11256802</td>\n",
       "      <td>Female</td>\n",
       "      <td>22-Oct-64</td>\n",
       "      <td>LA</td>\n",
       "      <td>469-345-5617</td>\n",
       "      <td>Silver</td>\n",
       "    </tr>\n",
       "    <tr>\n",
       "      <th>1084</th>\n",
       "      <td>61575264</td>\n",
       "      <td>Male</td>\n",
       "      <td>12-Jul-95</td>\n",
       "      <td>WY</td>\n",
       "      <td>182-385-1392</td>\n",
       "      <td>Gold</td>\n",
       "    </tr>\n",
       "  </tbody>\n",
       "</table>\n",
       "<p>1085 rows × 6 columns</p>\n",
       "</div>"
      ],
      "text/plain": [
       "       CUST_ID  gender DateOfBirth State       Contact   Segment\n",
       "0     21868593  Female   12-Jan-79    VT  789-916-8172  Platinum\n",
       "1     75740424  Female   13-Jan-70    ME  265-543-1264    Silver\n",
       "2     30308357  Female   11-Mar-84    TN  798-631-4758    Silver\n",
       "3     47830476  Female   01-May-86    MA  413-187-7945    Silver\n",
       "4     19269962    Male   13-May-77    NV  956-871-8691      Gold\n",
       "...        ...     ...         ...   ...           ...       ...\n",
       "1080  79539873  Female   15-Mar-81    ND  459-425-4319  Platinum\n",
       "1081  42364152  Female   07-Jul-96    ID  529-462-1635    Silver\n",
       "1082  19888166    Male   11-Apr-90    WI  712-651-9613      Gold\n",
       "1083  11256802  Female   22-Oct-64    LA  469-345-5617    Silver\n",
       "1084  61575264    Male   12-Jul-95    WY  182-385-1392      Gold\n",
       "\n",
       "[1085 rows x 6 columns]"
      ]
     },
     "execution_count": 492,
     "metadata": {},
     "output_type": "execute_result"
    }
   ],
   "source": [
    "customer"
   ]
  },
  {
   "cell_type": "code",
   "execution_count": 493,
   "id": "944d73db",
   "metadata": {
    "scrolled": true
   },
   "outputs": [
    {
     "name": "stdout",
     "output_type": "stream",
     "text": [
      "claims table    - (1100, 10)\n",
      "cutaomers table - (1085, 6)\n"
     ]
    }
   ],
   "source": [
    "print(\"claims table    -\", claim.shape)\n",
    "print(\"cutaomers table -\", customer.shape)"
   ]
  },
  {
   "cell_type": "code",
   "execution_count": 494,
   "id": "17ed292e",
   "metadata": {},
   "outputs": [],
   "source": [
    "customer_claim = claim.merge(customer , left_on = \"customer_id\" , right_on = \"CUST_ID\", how = \"inner\")"
   ]
  },
  {
   "cell_type": "code",
   "execution_count": 495,
   "id": "c265fde7",
   "metadata": {
    "scrolled": true
   },
   "outputs": [
    {
     "name": "stdout",
     "output_type": "stream",
     "text": [
      "<class 'pandas.core.frame.DataFrame'>\n",
      "Int64Index: 1085 entries, 0 to 1084\n",
      "Data columns (total 16 columns):\n",
      " #   Column               Non-Null Count  Dtype  \n",
      "---  ------               --------------  -----  \n",
      " 0   claim_id             1085 non-null   int64  \n",
      " 1   customer_id          1085 non-null   int64  \n",
      " 2   incident_cause       1085 non-null   object \n",
      " 3   claim_date           1085 non-null   object \n",
      " 4   claim_area           1085 non-null   object \n",
      " 5   police_report        1085 non-null   object \n",
      " 6   claim_type           1085 non-null   object \n",
      " 7   claim_amount         1020 non-null   object \n",
      " 8   total_policy_claims  1075 non-null   float64\n",
      " 9   fraudulent           1085 non-null   object \n",
      " 10  CUST_ID              1085 non-null   int64  \n",
      " 11  gender               1085 non-null   object \n",
      " 12  DateOfBirth          1085 non-null   object \n",
      " 13  State                1085 non-null   object \n",
      " 14  Contact              1085 non-null   object \n",
      " 15  Segment              1085 non-null   object \n",
      "dtypes: float64(1), int64(3), object(12)\n",
      "memory usage: 144.1+ KB\n"
     ]
    }
   ],
   "source": [
    "customer_claim.info()"
   ]
  },
  {
   "cell_type": "code",
   "execution_count": 496,
   "id": "28c46cd4",
   "metadata": {
    "scrolled": false
   },
   "outputs": [
    {
     "data": {
      "text/html": [
       "<div>\n",
       "<style scoped>\n",
       "    .dataframe tbody tr th:only-of-type {\n",
       "        vertical-align: middle;\n",
       "    }\n",
       "\n",
       "    .dataframe tbody tr th {\n",
       "        vertical-align: top;\n",
       "    }\n",
       "\n",
       "    .dataframe thead th {\n",
       "        text-align: right;\n",
       "    }\n",
       "</style>\n",
       "<table border=\"1\" class=\"dataframe\">\n",
       "  <thead>\n",
       "    <tr style=\"text-align: right;\">\n",
       "      <th></th>\n",
       "      <th>claim_id</th>\n",
       "      <th>customer_id</th>\n",
       "      <th>total_policy_claims</th>\n",
       "      <th>CUST_ID</th>\n",
       "    </tr>\n",
       "  </thead>\n",
       "  <tbody>\n",
       "    <tr>\n",
       "      <th>0</th>\n",
       "      <td>54004764</td>\n",
       "      <td>21868593</td>\n",
       "      <td>1.0</td>\n",
       "      <td>21868593</td>\n",
       "    </tr>\n",
       "    <tr>\n",
       "      <th>1</th>\n",
       "      <td>33985796</td>\n",
       "      <td>75740424</td>\n",
       "      <td>3.0</td>\n",
       "      <td>75740424</td>\n",
       "    </tr>\n",
       "    <tr>\n",
       "      <th>2</th>\n",
       "      <td>53522022</td>\n",
       "      <td>30308357</td>\n",
       "      <td>1.0</td>\n",
       "      <td>30308357</td>\n",
       "    </tr>\n",
       "    <tr>\n",
       "      <th>3</th>\n",
       "      <td>63017412</td>\n",
       "      <td>30308357</td>\n",
       "      <td>6.0</td>\n",
       "      <td>30308357</td>\n",
       "    </tr>\n",
       "    <tr>\n",
       "      <th>4</th>\n",
       "      <td>13015401</td>\n",
       "      <td>47830476</td>\n",
       "      <td>1.0</td>\n",
       "      <td>47830476</td>\n",
       "    </tr>\n",
       "    <tr>\n",
       "      <th>...</th>\n",
       "      <td>...</td>\n",
       "      <td>...</td>\n",
       "      <td>...</td>\n",
       "      <td>...</td>\n",
       "    </tr>\n",
       "    <tr>\n",
       "      <th>1080</th>\n",
       "      <td>62020796</td>\n",
       "      <td>79539873</td>\n",
       "      <td>1.0</td>\n",
       "      <td>79539873</td>\n",
       "    </tr>\n",
       "    <tr>\n",
       "      <th>1081</th>\n",
       "      <td>63269067</td>\n",
       "      <td>42364152</td>\n",
       "      <td>1.0</td>\n",
       "      <td>42364152</td>\n",
       "    </tr>\n",
       "    <tr>\n",
       "      <th>1082</th>\n",
       "      <td>22690595</td>\n",
       "      <td>19888166</td>\n",
       "      <td>2.0</td>\n",
       "      <td>19888166</td>\n",
       "    </tr>\n",
       "    <tr>\n",
       "      <th>1083</th>\n",
       "      <td>12376894</td>\n",
       "      <td>11256802</td>\n",
       "      <td>4.0</td>\n",
       "      <td>11256802</td>\n",
       "    </tr>\n",
       "    <tr>\n",
       "      <th>1084</th>\n",
       "      <td>63226031</td>\n",
       "      <td>61575264</td>\n",
       "      <td>1.0</td>\n",
       "      <td>61575264</td>\n",
       "    </tr>\n",
       "  </tbody>\n",
       "</table>\n",
       "<p>1085 rows × 4 columns</p>\n",
       "</div>"
      ],
      "text/plain": [
       "      claim_id  customer_id  total_policy_claims   CUST_ID\n",
       "0     54004764     21868593                  1.0  21868593\n",
       "1     33985796     75740424                  3.0  75740424\n",
       "2     53522022     30308357                  1.0  30308357\n",
       "3     63017412     30308357                  6.0  30308357\n",
       "4     13015401     47830476                  1.0  47830476\n",
       "...        ...          ...                  ...       ...\n",
       "1080  62020796     79539873                  1.0  79539873\n",
       "1081  63269067     42364152                  1.0  42364152\n",
       "1082  22690595     19888166                  2.0  19888166\n",
       "1083  12376894     11256802                  4.0  11256802\n",
       "1084  63226031     61575264                  1.0  61575264\n",
       "\n",
       "[1085 rows x 4 columns]"
      ]
     },
     "execution_count": 496,
     "metadata": {},
     "output_type": "execute_result"
    }
   ],
   "source": [
    "numeric_variables = customer_claim.select_dtypes(include = ['float64', 'int64'])\n",
    "numeric_variables"
   ]
  },
  {
   "cell_type": "code",
   "execution_count": 497,
   "id": "c6ffa46a",
   "metadata": {
    "scrolled": true
   },
   "outputs": [
    {
     "data": {
      "text/html": [
       "<div>\n",
       "<style scoped>\n",
       "    .dataframe tbody tr th:only-of-type {\n",
       "        vertical-align: middle;\n",
       "    }\n",
       "\n",
       "    .dataframe tbody tr th {\n",
       "        vertical-align: top;\n",
       "    }\n",
       "\n",
       "    .dataframe thead th {\n",
       "        text-align: right;\n",
       "    }\n",
       "</style>\n",
       "<table border=\"1\" class=\"dataframe\">\n",
       "  <thead>\n",
       "    <tr style=\"text-align: right;\">\n",
       "      <th></th>\n",
       "      <th>incident_cause</th>\n",
       "      <th>claim_date</th>\n",
       "      <th>claim_area</th>\n",
       "      <th>police_report</th>\n",
       "      <th>claim_type</th>\n",
       "      <th>claim_amount</th>\n",
       "      <th>fraudulent</th>\n",
       "      <th>gender</th>\n",
       "      <th>DateOfBirth</th>\n",
       "      <th>State</th>\n",
       "      <th>Contact</th>\n",
       "      <th>Segment</th>\n",
       "    </tr>\n",
       "  </thead>\n",
       "  <tbody>\n",
       "    <tr>\n",
       "      <th>0</th>\n",
       "      <td>Driver error</td>\n",
       "      <td>11/27/2017</td>\n",
       "      <td>Auto</td>\n",
       "      <td>No</td>\n",
       "      <td>Material only</td>\n",
       "      <td>$2980</td>\n",
       "      <td>No</td>\n",
       "      <td>Female</td>\n",
       "      <td>12-Jan-79</td>\n",
       "      <td>VT</td>\n",
       "      <td>789-916-8172</td>\n",
       "      <td>Platinum</td>\n",
       "    </tr>\n",
       "    <tr>\n",
       "      <th>1</th>\n",
       "      <td>Crime</td>\n",
       "      <td>10/03/2018</td>\n",
       "      <td>Home</td>\n",
       "      <td>Unknown</td>\n",
       "      <td>Material only</td>\n",
       "      <td>$2980</td>\n",
       "      <td>No</td>\n",
       "      <td>Female</td>\n",
       "      <td>13-Jan-70</td>\n",
       "      <td>ME</td>\n",
       "      <td>265-543-1264</td>\n",
       "      <td>Silver</td>\n",
       "    </tr>\n",
       "    <tr>\n",
       "      <th>2</th>\n",
       "      <td>Other driver error</td>\n",
       "      <td>02/02/2018</td>\n",
       "      <td>Auto</td>\n",
       "      <td>No</td>\n",
       "      <td>Material only</td>\n",
       "      <td>$3369.5</td>\n",
       "      <td>Yes</td>\n",
       "      <td>Female</td>\n",
       "      <td>11-Mar-84</td>\n",
       "      <td>TN</td>\n",
       "      <td>798-631-4758</td>\n",
       "      <td>Silver</td>\n",
       "    </tr>\n",
       "    <tr>\n",
       "      <th>3</th>\n",
       "      <td>Driver error</td>\n",
       "      <td>04/04/2018</td>\n",
       "      <td>Auto</td>\n",
       "      <td>No</td>\n",
       "      <td>Material only</td>\n",
       "      <td>$1950</td>\n",
       "      <td>No</td>\n",
       "      <td>Female</td>\n",
       "      <td>11-Mar-84</td>\n",
       "      <td>TN</td>\n",
       "      <td>798-631-4758</td>\n",
       "      <td>Silver</td>\n",
       "    </tr>\n",
       "    <tr>\n",
       "      <th>4</th>\n",
       "      <td>Natural causes</td>\n",
       "      <td>06/17/2018</td>\n",
       "      <td>Auto</td>\n",
       "      <td>No</td>\n",
       "      <td>Material only</td>\n",
       "      <td>$1680</td>\n",
       "      <td>No</td>\n",
       "      <td>Female</td>\n",
       "      <td>01-May-86</td>\n",
       "      <td>MA</td>\n",
       "      <td>413-187-7945</td>\n",
       "      <td>Silver</td>\n",
       "    </tr>\n",
       "    <tr>\n",
       "      <th>...</th>\n",
       "      <td>...</td>\n",
       "      <td>...</td>\n",
       "      <td>...</td>\n",
       "      <td>...</td>\n",
       "      <td>...</td>\n",
       "      <td>...</td>\n",
       "      <td>...</td>\n",
       "      <td>...</td>\n",
       "      <td>...</td>\n",
       "      <td>...</td>\n",
       "      <td>...</td>\n",
       "      <td>...</td>\n",
       "    </tr>\n",
       "    <tr>\n",
       "      <th>1080</th>\n",
       "      <td>Other driver error</td>\n",
       "      <td>09/06/2018</td>\n",
       "      <td>Auto</td>\n",
       "      <td>Yes</td>\n",
       "      <td>Material only</td>\n",
       "      <td>$1770</td>\n",
       "      <td>No</td>\n",
       "      <td>Female</td>\n",
       "      <td>15-Mar-81</td>\n",
       "      <td>ND</td>\n",
       "      <td>459-425-4319</td>\n",
       "      <td>Platinum</td>\n",
       "    </tr>\n",
       "    <tr>\n",
       "      <th>1081</th>\n",
       "      <td>Other causes</td>\n",
       "      <td>05/09/2017</td>\n",
       "      <td>Home</td>\n",
       "      <td>No</td>\n",
       "      <td>Material only</td>\n",
       "      <td>$2800</td>\n",
       "      <td>No</td>\n",
       "      <td>Female</td>\n",
       "      <td>07-Jul-96</td>\n",
       "      <td>ID</td>\n",
       "      <td>529-462-1635</td>\n",
       "      <td>Silver</td>\n",
       "    </tr>\n",
       "    <tr>\n",
       "      <th>1082</th>\n",
       "      <td>Other driver error</td>\n",
       "      <td>05/15/2017</td>\n",
       "      <td>Auto</td>\n",
       "      <td>Yes</td>\n",
       "      <td>Injury only</td>\n",
       "      <td>$33080</td>\n",
       "      <td>No</td>\n",
       "      <td>Male</td>\n",
       "      <td>11-Apr-90</td>\n",
       "      <td>WI</td>\n",
       "      <td>712-651-9613</td>\n",
       "      <td>Gold</td>\n",
       "    </tr>\n",
       "    <tr>\n",
       "      <th>1083</th>\n",
       "      <td>Other driver error</td>\n",
       "      <td>04/18/2017</td>\n",
       "      <td>Auto</td>\n",
       "      <td>No</td>\n",
       "      <td>Material only</td>\n",
       "      <td>$2840</td>\n",
       "      <td>No</td>\n",
       "      <td>Female</td>\n",
       "      <td>22-Oct-64</td>\n",
       "      <td>LA</td>\n",
       "      <td>469-345-5617</td>\n",
       "      <td>Silver</td>\n",
       "    </tr>\n",
       "    <tr>\n",
       "      <th>1084</th>\n",
       "      <td>Natural causes</td>\n",
       "      <td>03/16/2017</td>\n",
       "      <td>Auto</td>\n",
       "      <td>No</td>\n",
       "      <td>Material only</td>\n",
       "      <td>$1490</td>\n",
       "      <td>No</td>\n",
       "      <td>Male</td>\n",
       "      <td>12-Jul-95</td>\n",
       "      <td>WY</td>\n",
       "      <td>182-385-1392</td>\n",
       "      <td>Gold</td>\n",
       "    </tr>\n",
       "  </tbody>\n",
       "</table>\n",
       "<p>1085 rows × 12 columns</p>\n",
       "</div>"
      ],
      "text/plain": [
       "          incident_cause  claim_date claim_area police_report     claim_type  \\\n",
       "0           Driver error  11/27/2017       Auto            No  Material only   \n",
       "1                  Crime  10/03/2018       Home       Unknown  Material only   \n",
       "2     Other driver error  02/02/2018       Auto            No  Material only   \n",
       "3           Driver error  04/04/2018       Auto            No  Material only   \n",
       "4         Natural causes  06/17/2018       Auto            No  Material only   \n",
       "...                  ...         ...        ...           ...            ...   \n",
       "1080  Other driver error  09/06/2018       Auto           Yes  Material only   \n",
       "1081        Other causes  05/09/2017       Home            No  Material only   \n",
       "1082  Other driver error  05/15/2017       Auto           Yes    Injury only   \n",
       "1083  Other driver error  04/18/2017       Auto            No  Material only   \n",
       "1084      Natural causes  03/16/2017       Auto            No  Material only   \n",
       "\n",
       "     claim_amount fraudulent  gender DateOfBirth State       Contact   Segment  \n",
       "0           $2980         No  Female   12-Jan-79    VT  789-916-8172  Platinum  \n",
       "1           $2980         No  Female   13-Jan-70    ME  265-543-1264    Silver  \n",
       "2         $3369.5        Yes  Female   11-Mar-84    TN  798-631-4758    Silver  \n",
       "3           $1950         No  Female   11-Mar-84    TN  798-631-4758    Silver  \n",
       "4           $1680         No  Female   01-May-86    MA  413-187-7945    Silver  \n",
       "...           ...        ...     ...         ...   ...           ...       ...  \n",
       "1080        $1770         No  Female   15-Mar-81    ND  459-425-4319  Platinum  \n",
       "1081        $2800         No  Female   07-Jul-96    ID  529-462-1635    Silver  \n",
       "1082       $33080         No    Male   11-Apr-90    WI  712-651-9613      Gold  \n",
       "1083        $2840         No  Female   22-Oct-64    LA  469-345-5617    Silver  \n",
       "1084        $1490         No    Male   12-Jul-95    WY  182-385-1392      Gold  \n",
       "\n",
       "[1085 rows x 12 columns]"
      ]
     },
     "execution_count": 497,
     "metadata": {},
     "output_type": "execute_result"
    }
   ],
   "source": [
    "object_variables = customer_claim.select_dtypes(include = ['object'])\n",
    "object_variables"
   ]
  },
  {
   "cell_type": "code",
   "execution_count": 498,
   "id": "c9b0f12d",
   "metadata": {},
   "outputs": [],
   "source": [
    "def continuous_var_summary(x):\n",
    "    \n",
    "    # freq and missings\n",
    "    n_total = x.shape[0]\n",
    "    n_miss = x.isna().sum()\n",
    "    perc_miss = n_miss * 100 / n_total\n",
    "    \n",
    "    # outliers - iqr\n",
    "    q1 = x.quantile(0.25)\n",
    "    q3 = x.quantile(0.75)\n",
    "    iqr = q3 - q1\n",
    "    lc_iqr = q1 - 1.5 * iqr\n",
    "    uc_iqr = q3 + 1.5 * iqr\n",
    "    \n",
    "    return pd.Series( [ x.dtypes, x.nunique(), n_total, x.count(), n_miss, perc_miss,\n",
    "                       x.sum(), x.mean(), x.std(), x.var(), \n",
    "                       lc_iqr, uc_iqr, \n",
    "                       x.min(), x.quantile(0.01), x.quantile(0.05), x.quantile(0.10), \n",
    "                       x.quantile(0.25), x.quantile(0.5), x.quantile(0.75), \n",
    "                       x.quantile(0.90), x.quantile(0.95), x.quantile(0.99), x.max() ], \n",
    "                     \n",
    "                    index = ['dtype', 'cardinality', 'n_tot', 'n', 'nmiss', 'perc_miss',\n",
    "                             'sum', 'mean', 'std', 'var',\n",
    "                        'lc_iqr', 'uc_iqr',\n",
    "                        'min', 'p1', 'p5', 'p10', 'p25', 'p50', 'p75', 'p90', 'p95', 'p99', 'max']) \n",
    "\n",
    "\n",
    "# In[296]:\n",
    "\n",
    "\n",
    "def categorical_var_summary(x):\n",
    "    \n",
    "    Mode = x.value_counts().sort_values(ascending = False)[0:1].reset_index()\n",
    "    return pd.Series([x.count(), x.isnull().sum(), Mode.iloc[0, 0], Mode.iloc[0, 1], \n",
    "                          round(Mode.iloc[0, 1] * 100 / x.count(), 2)], \n",
    "                     \n",
    "                  index = ['n', 'nmiss', 'MODE', 'FREQ', 'PERCENT'])\n"
   ]
  },
  {
   "cell_type": "markdown",
   "id": "e43e22fa",
   "metadata": {},
   "source": [
    "### 2 . AUDIT on continuoes variables and categorical variables"
   ]
  },
  {
   "cell_type": "code",
   "execution_count": 499,
   "id": "fb20c6e7",
   "metadata": {},
   "outputs": [],
   "source": [
    "#categorical_var_summary(object_variables)"
   ]
  },
  {
   "cell_type": "code",
   "execution_count": 500,
   "id": "f7960f23",
   "metadata": {
    "scrolled": true
   },
   "outputs": [
    {
     "data": {
      "text/plain": [
       "dtype           float64\n",
       "cardinality           8\n",
       "n_tot              1085\n",
       "n                  1075\n",
       "nmiss                10\n",
       "perc_miss      0.921659\n",
       "sum              1706.0\n",
       "mean           1.586977\n",
       "std            1.146859\n",
       "var            1.315286\n",
       "lc_iqr             -0.5\n",
       "uc_iqr              3.5\n",
       "min                 1.0\n",
       "p1                  1.0\n",
       "p5                  1.0\n",
       "p10                 1.0\n",
       "p25                 1.0\n",
       "p50                 1.0\n",
       "p75                 2.0\n",
       "p90                 3.0\n",
       "p95                 4.0\n",
       "p99                 6.0\n",
       "max                 8.0\n",
       "dtype: object"
      ]
     },
     "execution_count": 500,
     "metadata": {},
     "output_type": "execute_result"
    }
   ],
   "source": [
    "continuous_var_summary(numeric_variables[\"total_policy_claims\"])"
   ]
  },
  {
   "cell_type": "markdown",
   "id": "285030bb",
   "metadata": {},
   "source": [
    "###### Data type conversions for variables which are not of proper type\n"
   ]
  },
  {
   "cell_type": "code",
   "execution_count": 501,
   "id": "62d1059e",
   "metadata": {},
   "outputs": [],
   "source": [
    "customer_claim[\"DateOfBirth\"] = pd.to_datetime(customer_claim.DateOfBirth, format = \"%d-%b-%y\")\n",
    "customer_claim.loc[(customer_claim.DateOfBirth.dt.year > 2020),\"DateOfBirth\"]=customer_claim[customer_claim.DateOfBirth.dt.year > 2020][\"DateOfBirth\"].apply(lambda x: x - pd.DateOffset(years=100))\n"
   ]
  },
  {
   "cell_type": "code",
   "execution_count": 502,
   "id": "22f56535",
   "metadata": {},
   "outputs": [],
   "source": [
    "customer_claim[\"claim_date\"] = pd.to_datetime(customer_claim.claim_date, format = \"%m/%d/%Y\")"
   ]
  },
  {
   "cell_type": "markdown",
   "id": "9bd40687",
   "metadata": {},
   "source": [
    " #### 3. Convert the column claim_amount to numeric. Use the appropriate modules/attributes to remove the $ sign.\n"
   ]
  },
  {
   "cell_type": "code",
   "execution_count": 503,
   "id": "42e6dedc",
   "metadata": {},
   "outputs": [
    {
     "name": "stderr",
     "output_type": "stream",
     "text": [
      "<ipython-input-503-e13942b7d4ee>:2: FutureWarning: The default value of regex will change from True to False in a future version. In addition, single character regular expressions will*not* be treated as literal strings when regex=True.\n",
      "  customer_claim['claim_amount'] =customer_claim['claim_amount'].str.replace('$','')\n"
     ]
    }
   ],
   "source": [
    "customer_claim[\"claim_amount\"]= customer_claim['claim_amount'].astype(str)\n",
    "customer_claim['claim_amount'] =customer_claim['claim_amount'].str.replace('$','')\n",
    "customer_claim['claim_amount']= np.where(customer_claim.claim_amount== \"nan\",\"\",customer_claim.claim_amount )\n"
   ]
  },
  {
   "cell_type": "code",
   "execution_count": 504,
   "id": "a84be06e",
   "metadata": {},
   "outputs": [
    {
     "data": {
      "text/plain": [
       "dtype('float64')"
      ]
     },
     "execution_count": 504,
     "metadata": {},
     "output_type": "execute_result"
    }
   ],
   "source": [
    "customer_claim['claim_amount'] = pd.to_numeric(customer_claim['claim_amount'])\n",
    "np.dtype(customer_claim.claim_amount)"
   ]
  },
  {
   "cell_type": "markdown",
   "id": "eba34cc4",
   "metadata": {},
   "source": [
    " #### 4. Of all the injury claims, some of them have gone unreported with the police. Create an alert flag (1,0) for all such claims."
   ]
  },
  {
   "cell_type": "code",
   "execution_count": 505,
   "id": "0cddddd1",
   "metadata": {},
   "outputs": [],
   "source": [
    "customer_claim[\"unreported_claims\"] = np.where(customer_claim[\"police_report\"] == \"Unknown\",1,0)"
   ]
  },
  {
   "cell_type": "code",
   "execution_count": 506,
   "id": "027b87e3",
   "metadata": {
    "scrolled": true
   },
   "outputs": [
    {
     "data": {
      "text/html": [
       "<div>\n",
       "<style scoped>\n",
       "    .dataframe tbody tr th:only-of-type {\n",
       "        vertical-align: middle;\n",
       "    }\n",
       "\n",
       "    .dataframe tbody tr th {\n",
       "        vertical-align: top;\n",
       "    }\n",
       "\n",
       "    .dataframe thead th {\n",
       "        text-align: right;\n",
       "    }\n",
       "</style>\n",
       "<table border=\"1\" class=\"dataframe\">\n",
       "  <thead>\n",
       "    <tr style=\"text-align: right;\">\n",
       "      <th></th>\n",
       "      <th>claim_id</th>\n",
       "      <th>customer_id</th>\n",
       "      <th>incident_cause</th>\n",
       "      <th>claim_date</th>\n",
       "      <th>claim_area</th>\n",
       "      <th>police_report</th>\n",
       "      <th>claim_type</th>\n",
       "      <th>claim_amount</th>\n",
       "      <th>total_policy_claims</th>\n",
       "      <th>fraudulent</th>\n",
       "      <th>CUST_ID</th>\n",
       "      <th>gender</th>\n",
       "      <th>DateOfBirth</th>\n",
       "      <th>State</th>\n",
       "      <th>Contact</th>\n",
       "      <th>Segment</th>\n",
       "      <th>unreported_claims</th>\n",
       "    </tr>\n",
       "  </thead>\n",
       "  <tbody>\n",
       "    <tr>\n",
       "      <th>0</th>\n",
       "      <td>54004764</td>\n",
       "      <td>21868593</td>\n",
       "      <td>Driver error</td>\n",
       "      <td>2017-11-27</td>\n",
       "      <td>Auto</td>\n",
       "      <td>No</td>\n",
       "      <td>Material only</td>\n",
       "      <td>2980.0</td>\n",
       "      <td>1.0</td>\n",
       "      <td>No</td>\n",
       "      <td>21868593</td>\n",
       "      <td>Female</td>\n",
       "      <td>1979-01-12</td>\n",
       "      <td>VT</td>\n",
       "      <td>789-916-8172</td>\n",
       "      <td>Platinum</td>\n",
       "      <td>0</td>\n",
       "    </tr>\n",
       "    <tr>\n",
       "      <th>1</th>\n",
       "      <td>33985796</td>\n",
       "      <td>75740424</td>\n",
       "      <td>Crime</td>\n",
       "      <td>2018-10-03</td>\n",
       "      <td>Home</td>\n",
       "      <td>Unknown</td>\n",
       "      <td>Material only</td>\n",
       "      <td>2980.0</td>\n",
       "      <td>3.0</td>\n",
       "      <td>No</td>\n",
       "      <td>75740424</td>\n",
       "      <td>Female</td>\n",
       "      <td>1970-01-13</td>\n",
       "      <td>ME</td>\n",
       "      <td>265-543-1264</td>\n",
       "      <td>Silver</td>\n",
       "      <td>1</td>\n",
       "    </tr>\n",
       "    <tr>\n",
       "      <th>2</th>\n",
       "      <td>53522022</td>\n",
       "      <td>30308357</td>\n",
       "      <td>Other driver error</td>\n",
       "      <td>2018-02-02</td>\n",
       "      <td>Auto</td>\n",
       "      <td>No</td>\n",
       "      <td>Material only</td>\n",
       "      <td>3369.5</td>\n",
       "      <td>1.0</td>\n",
       "      <td>Yes</td>\n",
       "      <td>30308357</td>\n",
       "      <td>Female</td>\n",
       "      <td>1984-03-11</td>\n",
       "      <td>TN</td>\n",
       "      <td>798-631-4758</td>\n",
       "      <td>Silver</td>\n",
       "      <td>0</td>\n",
       "    </tr>\n",
       "    <tr>\n",
       "      <th>3</th>\n",
       "      <td>63017412</td>\n",
       "      <td>30308357</td>\n",
       "      <td>Driver error</td>\n",
       "      <td>2018-04-04</td>\n",
       "      <td>Auto</td>\n",
       "      <td>No</td>\n",
       "      <td>Material only</td>\n",
       "      <td>1950.0</td>\n",
       "      <td>6.0</td>\n",
       "      <td>No</td>\n",
       "      <td>30308357</td>\n",
       "      <td>Female</td>\n",
       "      <td>1984-03-11</td>\n",
       "      <td>TN</td>\n",
       "      <td>798-631-4758</td>\n",
       "      <td>Silver</td>\n",
       "      <td>0</td>\n",
       "    </tr>\n",
       "    <tr>\n",
       "      <th>4</th>\n",
       "      <td>13015401</td>\n",
       "      <td>47830476</td>\n",
       "      <td>Natural causes</td>\n",
       "      <td>2018-06-17</td>\n",
       "      <td>Auto</td>\n",
       "      <td>No</td>\n",
       "      <td>Material only</td>\n",
       "      <td>1680.0</td>\n",
       "      <td>1.0</td>\n",
       "      <td>No</td>\n",
       "      <td>47830476</td>\n",
       "      <td>Female</td>\n",
       "      <td>1986-05-01</td>\n",
       "      <td>MA</td>\n",
       "      <td>413-187-7945</td>\n",
       "      <td>Silver</td>\n",
       "      <td>0</td>\n",
       "    </tr>\n",
       "    <tr>\n",
       "      <th>...</th>\n",
       "      <td>...</td>\n",
       "      <td>...</td>\n",
       "      <td>...</td>\n",
       "      <td>...</td>\n",
       "      <td>...</td>\n",
       "      <td>...</td>\n",
       "      <td>...</td>\n",
       "      <td>...</td>\n",
       "      <td>...</td>\n",
       "      <td>...</td>\n",
       "      <td>...</td>\n",
       "      <td>...</td>\n",
       "      <td>...</td>\n",
       "      <td>...</td>\n",
       "      <td>...</td>\n",
       "      <td>...</td>\n",
       "      <td>...</td>\n",
       "    </tr>\n",
       "    <tr>\n",
       "      <th>1080</th>\n",
       "      <td>62020796</td>\n",
       "      <td>79539873</td>\n",
       "      <td>Other driver error</td>\n",
       "      <td>2018-09-06</td>\n",
       "      <td>Auto</td>\n",
       "      <td>Yes</td>\n",
       "      <td>Material only</td>\n",
       "      <td>1770.0</td>\n",
       "      <td>1.0</td>\n",
       "      <td>No</td>\n",
       "      <td>79539873</td>\n",
       "      <td>Female</td>\n",
       "      <td>1981-03-15</td>\n",
       "      <td>ND</td>\n",
       "      <td>459-425-4319</td>\n",
       "      <td>Platinum</td>\n",
       "      <td>0</td>\n",
       "    </tr>\n",
       "    <tr>\n",
       "      <th>1081</th>\n",
       "      <td>63269067</td>\n",
       "      <td>42364152</td>\n",
       "      <td>Other causes</td>\n",
       "      <td>2017-05-09</td>\n",
       "      <td>Home</td>\n",
       "      <td>No</td>\n",
       "      <td>Material only</td>\n",
       "      <td>2800.0</td>\n",
       "      <td>1.0</td>\n",
       "      <td>No</td>\n",
       "      <td>42364152</td>\n",
       "      <td>Female</td>\n",
       "      <td>1996-07-07</td>\n",
       "      <td>ID</td>\n",
       "      <td>529-462-1635</td>\n",
       "      <td>Silver</td>\n",
       "      <td>0</td>\n",
       "    </tr>\n",
       "    <tr>\n",
       "      <th>1082</th>\n",
       "      <td>22690595</td>\n",
       "      <td>19888166</td>\n",
       "      <td>Other driver error</td>\n",
       "      <td>2017-05-15</td>\n",
       "      <td>Auto</td>\n",
       "      <td>Yes</td>\n",
       "      <td>Injury only</td>\n",
       "      <td>33080.0</td>\n",
       "      <td>2.0</td>\n",
       "      <td>No</td>\n",
       "      <td>19888166</td>\n",
       "      <td>Male</td>\n",
       "      <td>1990-04-11</td>\n",
       "      <td>WI</td>\n",
       "      <td>712-651-9613</td>\n",
       "      <td>Gold</td>\n",
       "      <td>0</td>\n",
       "    </tr>\n",
       "    <tr>\n",
       "      <th>1083</th>\n",
       "      <td>12376894</td>\n",
       "      <td>11256802</td>\n",
       "      <td>Other driver error</td>\n",
       "      <td>2017-04-18</td>\n",
       "      <td>Auto</td>\n",
       "      <td>No</td>\n",
       "      <td>Material only</td>\n",
       "      <td>2840.0</td>\n",
       "      <td>4.0</td>\n",
       "      <td>No</td>\n",
       "      <td>11256802</td>\n",
       "      <td>Female</td>\n",
       "      <td>1964-10-22</td>\n",
       "      <td>LA</td>\n",
       "      <td>469-345-5617</td>\n",
       "      <td>Silver</td>\n",
       "      <td>0</td>\n",
       "    </tr>\n",
       "    <tr>\n",
       "      <th>1084</th>\n",
       "      <td>63226031</td>\n",
       "      <td>61575264</td>\n",
       "      <td>Natural causes</td>\n",
       "      <td>2017-03-16</td>\n",
       "      <td>Auto</td>\n",
       "      <td>No</td>\n",
       "      <td>Material only</td>\n",
       "      <td>1490.0</td>\n",
       "      <td>1.0</td>\n",
       "      <td>No</td>\n",
       "      <td>61575264</td>\n",
       "      <td>Male</td>\n",
       "      <td>1995-07-12</td>\n",
       "      <td>WY</td>\n",
       "      <td>182-385-1392</td>\n",
       "      <td>Gold</td>\n",
       "      <td>0</td>\n",
       "    </tr>\n",
       "  </tbody>\n",
       "</table>\n",
       "<p>1085 rows × 17 columns</p>\n",
       "</div>"
      ],
      "text/plain": [
       "      claim_id  customer_id      incident_cause claim_date claim_area  \\\n",
       "0     54004764     21868593        Driver error 2017-11-27       Auto   \n",
       "1     33985796     75740424               Crime 2018-10-03       Home   \n",
       "2     53522022     30308357  Other driver error 2018-02-02       Auto   \n",
       "3     63017412     30308357        Driver error 2018-04-04       Auto   \n",
       "4     13015401     47830476      Natural causes 2018-06-17       Auto   \n",
       "...        ...          ...                 ...        ...        ...   \n",
       "1080  62020796     79539873  Other driver error 2018-09-06       Auto   \n",
       "1081  63269067     42364152        Other causes 2017-05-09       Home   \n",
       "1082  22690595     19888166  Other driver error 2017-05-15       Auto   \n",
       "1083  12376894     11256802  Other driver error 2017-04-18       Auto   \n",
       "1084  63226031     61575264      Natural causes 2017-03-16       Auto   \n",
       "\n",
       "     police_report     claim_type  claim_amount  total_policy_claims  \\\n",
       "0               No  Material only        2980.0                  1.0   \n",
       "1          Unknown  Material only        2980.0                  3.0   \n",
       "2               No  Material only        3369.5                  1.0   \n",
       "3               No  Material only        1950.0                  6.0   \n",
       "4               No  Material only        1680.0                  1.0   \n",
       "...            ...            ...           ...                  ...   \n",
       "1080           Yes  Material only        1770.0                  1.0   \n",
       "1081            No  Material only        2800.0                  1.0   \n",
       "1082           Yes    Injury only       33080.0                  2.0   \n",
       "1083            No  Material only        2840.0                  4.0   \n",
       "1084            No  Material only        1490.0                  1.0   \n",
       "\n",
       "     fraudulent   CUST_ID  gender DateOfBirth State       Contact   Segment  \\\n",
       "0            No  21868593  Female  1979-01-12    VT  789-916-8172  Platinum   \n",
       "1            No  75740424  Female  1970-01-13    ME  265-543-1264    Silver   \n",
       "2           Yes  30308357  Female  1984-03-11    TN  798-631-4758    Silver   \n",
       "3            No  30308357  Female  1984-03-11    TN  798-631-4758    Silver   \n",
       "4            No  47830476  Female  1986-05-01    MA  413-187-7945    Silver   \n",
       "...         ...       ...     ...         ...   ...           ...       ...   \n",
       "1080         No  79539873  Female  1981-03-15    ND  459-425-4319  Platinum   \n",
       "1081         No  42364152  Female  1996-07-07    ID  529-462-1635    Silver   \n",
       "1082         No  19888166    Male  1990-04-11    WI  712-651-9613      Gold   \n",
       "1083         No  11256802  Female  1964-10-22    LA  469-345-5617    Silver   \n",
       "1084         No  61575264    Male  1995-07-12    WY  182-385-1392      Gold   \n",
       "\n",
       "      unreported_claims  \n",
       "0                     0  \n",
       "1                     1  \n",
       "2                     0  \n",
       "3                     0  \n",
       "4                     0  \n",
       "...                 ...  \n",
       "1080                  0  \n",
       "1081                  0  \n",
       "1082                  0  \n",
       "1083                  0  \n",
       "1084                  0  \n",
       "\n",
       "[1085 rows x 17 columns]"
      ]
     },
     "execution_count": 506,
     "metadata": {},
     "output_type": "execute_result"
    }
   ],
   "source": [
    "customer_claim"
   ]
  },
  {
   "cell_type": "markdown",
   "id": "fe97ef12",
   "metadata": {},
   "source": [
    "### 5. One customer can claim for insurance more than once and in each claim, multiple categories of claims can be involved. However, customer ID should remain unique."
   ]
  },
  {
   "cell_type": "raw",
   "id": "fcb12f9d",
   "metadata": {},
   "source": [
    "Retain the most recent observation and delete any duplicated records in\n",
    "the data based on the customer ID column."
   ]
  },
  {
   "cell_type": "code",
   "execution_count": 507,
   "id": "9263e134",
   "metadata": {},
   "outputs": [],
   "source": [
    "## we can check for duplicates and then drop the duplicates\n",
    "customer_claim = customer_claim.drop_duplicates(subset=\"customer_id\", keep= \"last\")"
   ]
  },
  {
   "cell_type": "code",
   "execution_count": 508,
   "id": "1533cae9",
   "metadata": {
    "scrolled": true
   },
   "outputs": [
    {
     "data": {
      "text/plain": [
       "(1078, 17)"
      ]
     },
     "execution_count": 508,
     "metadata": {},
     "output_type": "execute_result"
    }
   ],
   "source": [
    "customer_claim.shape"
   ]
  },
  {
   "cell_type": "markdown",
   "id": "26471302",
   "metadata": {},
   "source": [
    "### 6. Check for missing values and impute the missing values with an appropriate value. (mean for continuous and mode for categorical)"
   ]
  },
  {
   "cell_type": "code",
   "execution_count": 509,
   "id": "acb4a137",
   "metadata": {},
   "outputs": [],
   "source": [
    "#customer_claim.isna().sum()"
   ]
  },
  {
   "cell_type": "code",
   "execution_count": 510,
   "id": "dd9e6686",
   "metadata": {},
   "outputs": [
    {
     "name": "stderr",
     "output_type": "stream",
     "text": [
      "<ipython-input-510-5bf10d2317ac>:1: SettingWithCopyWarning: \n",
      "A value is trying to be set on a copy of a slice from a DataFrame.\n",
      "Try using .loc[row_indexer,col_indexer] = value instead\n",
      "\n",
      "See the caveats in the documentation: https://pandas.pydata.org/pandas-docs/stable/user_guide/indexing.html#returning-a-view-versus-a-copy\n",
      "  customer_claim[\"claim_amount\"]= customer_claim['claim_amount'].replace(np.NaN,customer_claim['claim_amount'].mean())\n"
     ]
    },
    {
     "data": {
      "text/plain": [
       "0"
      ]
     },
     "execution_count": 510,
     "metadata": {},
     "output_type": "execute_result"
    }
   ],
   "source": [
    "customer_claim[\"claim_amount\"]= customer_claim['claim_amount'].replace(np.NaN,customer_claim['claim_amount'].mean())\n",
    "customer_claim[\"claim_amount\"].isna().sum()"
   ]
  },
  {
   "cell_type": "code",
   "execution_count": 511,
   "id": "d076f87d",
   "metadata": {},
   "outputs": [
    {
     "name": "stderr",
     "output_type": "stream",
     "text": [
      "<ipython-input-511-0ed2fc9b90f2>:1: SettingWithCopyWarning: \n",
      "A value is trying to be set on a copy of a slice from a DataFrame.\n",
      "Try using .loc[row_indexer,col_indexer] = value instead\n",
      "\n",
      "See the caveats in the documentation: https://pandas.pydata.org/pandas-docs/stable/user_guide/indexing.html#returning-a-view-versus-a-copy\n",
      "  customer_claim[\"total_policy_claims\"] = customer_claim[\"total_policy_claims\"].fillna(customer_claim[\"total_policy_claims\"].mode()[0])\n"
     ]
    }
   ],
   "source": [
    "customer_claim[\"total_policy_claims\"] = customer_claim[\"total_policy_claims\"].fillna(customer_claim[\"total_policy_claims\"].mode()[0])"
   ]
  },
  {
   "cell_type": "code",
   "execution_count": 512,
   "id": "5d5e7a13",
   "metadata": {},
   "outputs": [
    {
     "data": {
      "text/plain": [
       "0"
      ]
     },
     "execution_count": 512,
     "metadata": {},
     "output_type": "execute_result"
    }
   ],
   "source": [
    "customer_claim[\"total_policy_claims\"].isna().sum()"
   ]
  },
  {
   "cell_type": "code",
   "execution_count": 513,
   "id": "c8311e88",
   "metadata": {},
   "outputs": [
    {
     "name": "stderr",
     "output_type": "stream",
     "text": [
      "<ipython-input-513-1494433b627c>:1: SettingWithCopyWarning: \n",
      "A value is trying to be set on a copy of a slice from a DataFrame.\n",
      "Try using .loc[row_indexer,col_indexer] = value instead\n",
      "\n",
      "See the caveats in the documentation: https://pandas.pydata.org/pandas-docs/stable/user_guide/indexing.html#returning-a-view-versus-a-copy\n",
      "  customer_claim[\"total_policy_claims\"]= customer_claim[\"total_policy_claims\"].astype(str)\n"
     ]
    }
   ],
   "source": [
    "customer_claim[\"total_policy_claims\"]= customer_claim[\"total_policy_claims\"].astype(str)"
   ]
  },
  {
   "cell_type": "code",
   "execution_count": 514,
   "id": "a925c46d",
   "metadata": {
    "scrolled": true
   },
   "outputs": [
    {
     "data": {
      "text/plain": [
       "claim_id               0\n",
       "customer_id            0\n",
       "incident_cause         0\n",
       "claim_date             0\n",
       "claim_area             0\n",
       "police_report          0\n",
       "claim_type             0\n",
       "claim_amount           0\n",
       "total_policy_claims    0\n",
       "fraudulent             0\n",
       "CUST_ID                0\n",
       "gender                 0\n",
       "DateOfBirth            0\n",
       "State                  0\n",
       "Contact                0\n",
       "Segment                0\n",
       "unreported_claims      0\n",
       "dtype: int64"
      ]
     },
     "execution_count": 514,
     "metadata": {},
     "output_type": "execute_result"
    }
   ],
   "source": [
    "customer_claim.isna().sum()"
   ]
  },
  {
   "cell_type": "markdown",
   "id": "f24460c3",
   "metadata": {},
   "source": [
    "### 7. Calculate the age of customers in years. Based on the age, categorize the customers according to the below criteria\n",
    "###### Children < 18 \n",
    "###### Youth 18-30 \n",
    "###### Adult 30-60\n",
    "###### Senior > 60\n",
    "\n",
    "###### Some of the observations in the date of birth variable are not proper as we can observe it to be 2066\n"
   ]
  },
  {
   "cell_type": "code",
   "execution_count": 515,
   "id": "7cec0e4a",
   "metadata": {},
   "outputs": [],
   "source": [
    "curr_year = pd.to_datetime('today').year\n",
    "dob_year = pd.DatetimeIndex(customer_claim['DateOfBirth']).year          #extract year from DateOfBirth\n",
    "x = dob_year-100                                               # for the years which belongs to 60's\n",
    "v = curr_year - x\n",
    "y = curr_year - dob_year"
   ]
  },
  {
   "cell_type": "code",
   "execution_count": 516,
   "id": "3b25018f",
   "metadata": {},
   "outputs": [
    {
     "name": "stderr",
     "output_type": "stream",
     "text": [
      "<ipython-input-516-70feaa319460>:1: SettingWithCopyWarning: \n",
      "A value is trying to be set on a copy of a slice from a DataFrame.\n",
      "Try using .loc[row_indexer,col_indexer] = value instead\n",
      "\n",
      "See the caveats in the documentation: https://pandas.pydata.org/pandas-docs/stable/user_guide/indexing.html#returning-a-view-versus-a-copy\n",
      "  customer_claim['age'] = (np.where(dob_year > curr_year,v,y))\n"
     ]
    }
   ],
   "source": [
    "customer_claim['age'] = (np.where(dob_year > curr_year,v,y))"
   ]
  },
  {
   "cell_type": "code",
   "execution_count": 517,
   "id": "ba9b3a0c",
   "metadata": {},
   "outputs": [
    {
     "name": "stderr",
     "output_type": "stream",
     "text": [
      "C:\\Users\\Dell\\Anaconda3.0\\lib\\site-packages\\pandas\\core\\indexing.py:1599: SettingWithCopyWarning: \n",
      "A value is trying to be set on a copy of a slice from a DataFrame.\n",
      "Try using .loc[row_indexer,col_indexer] = value instead\n",
      "\n",
      "See the caveats in the documentation: https://pandas.pydata.org/pandas-docs/stable/user_guide/indexing.html#returning-a-view-versus-a-copy\n",
      "  self.obj[key] = infer_fill_value(value)\n",
      "C:\\Users\\Dell\\Anaconda3.0\\lib\\site-packages\\pandas\\core\\indexing.py:1720: SettingWithCopyWarning: \n",
      "A value is trying to be set on a copy of a slice from a DataFrame.\n",
      "Try using .loc[row_indexer,col_indexer] = value instead\n",
      "\n",
      "See the caveats in the documentation: https://pandas.pydata.org/pandas-docs/stable/user_guide/indexing.html#returning-a-view-versus-a-copy\n",
      "  self._setitem_single_column(loc, value, pi)\n",
      "C:\\Users\\Dell\\Anaconda3.0\\lib\\site-packages\\pandas\\core\\indexing.py:1720: SettingWithCopyWarning: \n",
      "A value is trying to be set on a copy of a slice from a DataFrame.\n",
      "Try using .loc[row_indexer,col_indexer] = value instead\n",
      "\n",
      "See the caveats in the documentation: https://pandas.pydata.org/pandas-docs/stable/user_guide/indexing.html#returning-a-view-versus-a-copy\n",
      "  self._setitem_single_column(loc, value, pi)\n",
      "C:\\Users\\Dell\\Anaconda3.0\\lib\\site-packages\\pandas\\core\\indexing.py:1720: SettingWithCopyWarning: \n",
      "A value is trying to be set on a copy of a slice from a DataFrame.\n",
      "Try using .loc[row_indexer,col_indexer] = value instead\n",
      "\n",
      "See the caveats in the documentation: https://pandas.pydata.org/pandas-docs/stable/user_guide/indexing.html#returning-a-view-versus-a-copy\n",
      "  self._setitem_single_column(loc, value, pi)\n",
      "C:\\Users\\Dell\\Anaconda3.0\\lib\\site-packages\\pandas\\core\\indexing.py:1720: SettingWithCopyWarning: \n",
      "A value is trying to be set on a copy of a slice from a DataFrame.\n",
      "Try using .loc[row_indexer,col_indexer] = value instead\n",
      "\n",
      "See the caveats in the documentation: https://pandas.pydata.org/pandas-docs/stable/user_guide/indexing.html#returning-a-view-versus-a-copy\n",
      "  self._setitem_single_column(loc, value, pi)\n"
     ]
    }
   ],
   "source": [
    "customer_claim.loc[(customer_claim.age < 18),'AgeGroup'] = 'Children'\n",
    "customer_claim.loc[(customer_claim.age >=18) & (customer_claim.age <30),'AgeGroup'] = 'Youth'\n",
    "customer_claim.loc[(customer_claim.age >=30) & (customer_claim.age <60),'AgeGroup'] = 'Adult'\n",
    "customer_claim.loc[(customer_claim.age >=60),'AgeGroup'] = 'Senior'\n"
   ]
  },
  {
   "cell_type": "code",
   "execution_count": 518,
   "id": "8f3a868c",
   "metadata": {
    "scrolled": false
   },
   "outputs": [
    {
     "data": {
      "text/html": [
       "<div>\n",
       "<style scoped>\n",
       "    .dataframe tbody tr th:only-of-type {\n",
       "        vertical-align: middle;\n",
       "    }\n",
       "\n",
       "    .dataframe tbody tr th {\n",
       "        vertical-align: top;\n",
       "    }\n",
       "\n",
       "    .dataframe thead th {\n",
       "        text-align: right;\n",
       "    }\n",
       "</style>\n",
       "<table border=\"1\" class=\"dataframe\">\n",
       "  <thead>\n",
       "    <tr style=\"text-align: right;\">\n",
       "      <th></th>\n",
       "      <th>claim_id</th>\n",
       "      <th>customer_id</th>\n",
       "      <th>incident_cause</th>\n",
       "      <th>claim_date</th>\n",
       "      <th>claim_area</th>\n",
       "      <th>police_report</th>\n",
       "      <th>claim_type</th>\n",
       "      <th>claim_amount</th>\n",
       "      <th>total_policy_claims</th>\n",
       "      <th>fraudulent</th>\n",
       "      <th>CUST_ID</th>\n",
       "      <th>gender</th>\n",
       "      <th>DateOfBirth</th>\n",
       "      <th>State</th>\n",
       "      <th>Contact</th>\n",
       "      <th>Segment</th>\n",
       "      <th>unreported_claims</th>\n",
       "      <th>age</th>\n",
       "      <th>AgeGroup</th>\n",
       "    </tr>\n",
       "  </thead>\n",
       "  <tbody>\n",
       "    <tr>\n",
       "      <th>0</th>\n",
       "      <td>54004764</td>\n",
       "      <td>21868593</td>\n",
       "      <td>Driver error</td>\n",
       "      <td>2017-11-27</td>\n",
       "      <td>Auto</td>\n",
       "      <td>No</td>\n",
       "      <td>Material only</td>\n",
       "      <td>2980.0</td>\n",
       "      <td>1.0</td>\n",
       "      <td>No</td>\n",
       "      <td>21868593</td>\n",
       "      <td>Female</td>\n",
       "      <td>1979-01-12</td>\n",
       "      <td>VT</td>\n",
       "      <td>789-916-8172</td>\n",
       "      <td>Platinum</td>\n",
       "      <td>0</td>\n",
       "      <td>43</td>\n",
       "      <td>Adult</td>\n",
       "    </tr>\n",
       "    <tr>\n",
       "      <th>1</th>\n",
       "      <td>33985796</td>\n",
       "      <td>75740424</td>\n",
       "      <td>Crime</td>\n",
       "      <td>2018-10-03</td>\n",
       "      <td>Home</td>\n",
       "      <td>Unknown</td>\n",
       "      <td>Material only</td>\n",
       "      <td>2980.0</td>\n",
       "      <td>3.0</td>\n",
       "      <td>No</td>\n",
       "      <td>75740424</td>\n",
       "      <td>Female</td>\n",
       "      <td>1970-01-13</td>\n",
       "      <td>ME</td>\n",
       "      <td>265-543-1264</td>\n",
       "      <td>Silver</td>\n",
       "      <td>1</td>\n",
       "      <td>52</td>\n",
       "      <td>Adult</td>\n",
       "    </tr>\n",
       "    <tr>\n",
       "      <th>3</th>\n",
       "      <td>63017412</td>\n",
       "      <td>30308357</td>\n",
       "      <td>Driver error</td>\n",
       "      <td>2018-04-04</td>\n",
       "      <td>Auto</td>\n",
       "      <td>No</td>\n",
       "      <td>Material only</td>\n",
       "      <td>1950.0</td>\n",
       "      <td>6.0</td>\n",
       "      <td>No</td>\n",
       "      <td>30308357</td>\n",
       "      <td>Female</td>\n",
       "      <td>1984-03-11</td>\n",
       "      <td>TN</td>\n",
       "      <td>798-631-4758</td>\n",
       "      <td>Silver</td>\n",
       "      <td>0</td>\n",
       "      <td>38</td>\n",
       "      <td>Adult</td>\n",
       "    </tr>\n",
       "    <tr>\n",
       "      <th>5</th>\n",
       "      <td>91609100</td>\n",
       "      <td>47830476</td>\n",
       "      <td>Natural causes</td>\n",
       "      <td>2017-04-12</td>\n",
       "      <td>Auto</td>\n",
       "      <td>Unknown</td>\n",
       "      <td>Material only</td>\n",
       "      <td>1440.0</td>\n",
       "      <td>1.0</td>\n",
       "      <td>No</td>\n",
       "      <td>47830476</td>\n",
       "      <td>Female</td>\n",
       "      <td>1986-05-01</td>\n",
       "      <td>MA</td>\n",
       "      <td>413-187-7945</td>\n",
       "      <td>Silver</td>\n",
       "      <td>1</td>\n",
       "      <td>36</td>\n",
       "      <td>Adult</td>\n",
       "    </tr>\n",
       "    <tr>\n",
       "      <th>7</th>\n",
       "      <td>39219616</td>\n",
       "      <td>19269962</td>\n",
       "      <td>Other causes</td>\n",
       "      <td>2018-09-26</td>\n",
       "      <td>Auto</td>\n",
       "      <td>No</td>\n",
       "      <td>Material only</td>\n",
       "      <td>2240.0</td>\n",
       "      <td>2.0</td>\n",
       "      <td>No</td>\n",
       "      <td>19269962</td>\n",
       "      <td>Male</td>\n",
       "      <td>1977-05-13</td>\n",
       "      <td>NV</td>\n",
       "      <td>956-871-8691</td>\n",
       "      <td>Gold</td>\n",
       "      <td>0</td>\n",
       "      <td>45</td>\n",
       "      <td>Adult</td>\n",
       "    </tr>\n",
       "  </tbody>\n",
       "</table>\n",
       "</div>"
      ],
      "text/plain": [
       "   claim_id  customer_id  incident_cause claim_date claim_area police_report  \\\n",
       "0  54004764     21868593    Driver error 2017-11-27       Auto            No   \n",
       "1  33985796     75740424           Crime 2018-10-03       Home       Unknown   \n",
       "3  63017412     30308357    Driver error 2018-04-04       Auto            No   \n",
       "5  91609100     47830476  Natural causes 2017-04-12       Auto       Unknown   \n",
       "7  39219616     19269962    Other causes 2018-09-26       Auto            No   \n",
       "\n",
       "      claim_type  claim_amount total_policy_claims fraudulent   CUST_ID  \\\n",
       "0  Material only        2980.0                 1.0         No  21868593   \n",
       "1  Material only        2980.0                 3.0         No  75740424   \n",
       "3  Material only        1950.0                 6.0         No  30308357   \n",
       "5  Material only        1440.0                 1.0         No  47830476   \n",
       "7  Material only        2240.0                 2.0         No  19269962   \n",
       "\n",
       "   gender DateOfBirth State       Contact   Segment  unreported_claims  age  \\\n",
       "0  Female  1979-01-12    VT  789-916-8172  Platinum                  0   43   \n",
       "1  Female  1970-01-13    ME  265-543-1264    Silver                  1   52   \n",
       "3  Female  1984-03-11    TN  798-631-4758    Silver                  0   38   \n",
       "5  Female  1986-05-01    MA  413-187-7945    Silver                  1   36   \n",
       "7    Male  1977-05-13    NV  956-871-8691      Gold                  0   45   \n",
       "\n",
       "  AgeGroup  \n",
       "0    Adult  \n",
       "1    Adult  \n",
       "3    Adult  \n",
       "5    Adult  \n",
       "7    Adult  "
      ]
     },
     "execution_count": 518,
     "metadata": {},
     "output_type": "execute_result"
    }
   ],
   "source": [
    "customer_claim.head()"
   ]
  },
  {
   "cell_type": "code",
   "execution_count": 519,
   "id": "eb2919c9",
   "metadata": {},
   "outputs": [
    {
     "data": {
      "text/plain": [
       "AgeGroup\n",
       "Adult     795\n",
       "Senior     75\n",
       "Youth     208\n",
       "Name: age, dtype: int64"
      ]
     },
     "execution_count": 519,
     "metadata": {},
     "output_type": "execute_result"
    }
   ],
   "source": [
    "customer_claim.groupby([\"AgeGroup\"])[\"age\"].count()"
   ]
  },
  {
   "cell_type": "markdown",
   "id": "5bea95f0",
   "metadata": {},
   "source": [
    "### 8. What is the average amount claimed by the customers from various segments?"
   ]
  },
  {
   "cell_type": "code",
   "execution_count": 520,
   "id": "d577f340",
   "metadata": {},
   "outputs": [
    {
     "data": {
      "text/plain": [
       "Segment\n",
       "Gold        12846.39\n",
       "Platinum    12371.64\n",
       "Silver      12267.15\n",
       "Name: claim_amount, dtype: float64"
      ]
     },
     "execution_count": 520,
     "metadata": {},
     "output_type": "execute_result"
    }
   ],
   "source": [
    "Avg_amount_segment= round(customer_claim.groupby([\"Segment\"])[\"claim_amount\"].mean(),2)\n",
    "Avg_amount_segment"
   ]
  },
  {
   "cell_type": "markdown",
   "id": "b1d47abd",
   "metadata": {},
   "source": [
    "### 9. What is the total claim amount based on incident cause for all the claims that have been done at least 20 days prior to 1st of October, 2018."
   ]
  },
  {
   "cell_type": "code",
   "execution_count": 521,
   "id": "ee2d8954",
   "metadata": {},
   "outputs": [],
   "source": [
    "#incidents reproted atleast 20 days prior to 1st october,2018  that is before 10th of september\n",
    "# total claim amount for these incidents  ---- then finding sum of claimamount grouping by the incident_cause"
   ]
  },
  {
   "cell_type": "code",
   "execution_count": 522,
   "id": "f5fa751b",
   "metadata": {
    "scrolled": true
   },
   "outputs": [
    {
     "data": {
      "text/html": [
       "<div>\n",
       "<style scoped>\n",
       "    .dataframe tbody tr th:only-of-type {\n",
       "        vertical-align: middle;\n",
       "    }\n",
       "\n",
       "    .dataframe tbody tr th {\n",
       "        vertical-align: top;\n",
       "    }\n",
       "\n",
       "    .dataframe thead th {\n",
       "        text-align: right;\n",
       "    }\n",
       "</style>\n",
       "<table border=\"1\" class=\"dataframe\">\n",
       "  <thead>\n",
       "    <tr style=\"text-align: right;\">\n",
       "      <th></th>\n",
       "      <th>total_claim_amount</th>\n",
       "    </tr>\n",
       "    <tr>\n",
       "      <th>incident_cause</th>\n",
       "      <th></th>\n",
       "    </tr>\n",
       "  </thead>\n",
       "  <tbody>\n",
       "    <tr>\n",
       "      <th>Crime</th>\n",
       "      <td>721937.45</td>\n",
       "    </tr>\n",
       "    <tr>\n",
       "      <th>Driver error</th>\n",
       "      <td>3315847.88</td>\n",
       "    </tr>\n",
       "    <tr>\n",
       "      <th>Natural causes</th>\n",
       "      <td>1312744.91</td>\n",
       "    </tr>\n",
       "    <tr>\n",
       "      <th>Other causes</th>\n",
       "      <td>3723147.30</td>\n",
       "    </tr>\n",
       "    <tr>\n",
       "      <th>Other driver error</th>\n",
       "      <td>3277533.37</td>\n",
       "    </tr>\n",
       "  </tbody>\n",
       "</table>\n",
       "</div>"
      ],
      "text/plain": [
       "                    total_claim_amount\n",
       "incident_cause                        \n",
       "Crime                        721937.45\n",
       "Driver error                3315847.88\n",
       "Natural causes              1312744.91\n",
       "Other causes                3723147.30\n",
       "Other driver error          3277533.37"
      ]
     },
     "execution_count": 522,
     "metadata": {},
     "output_type": "execute_result"
    }
   ],
   "source": [
    "round(customer_claim.loc[customer_claim.claim_date < \"2018-09-10\",:].groupby(by = \"incident_cause\")[[\"claim_amount\"]].sum().add_prefix(\"total_\"),2)"
   ]
  },
  {
   "cell_type": "markdown",
   "id": "695ea46f",
   "metadata": {},
   "source": [
    "### 10. How many adults from TX, DE and AK claimed insurance for driver related issues and causes?"
   ]
  },
  {
   "cell_type": "code",
   "execution_count": 523,
   "id": "6f2ce2da",
   "metadata": {},
   "outputs": [],
   "source": [
    "adult_claim = customer_claim.groupby(by = [\"State\", \"incident_cause\" ] )[[\"claim_amount\"]].count().reset_index()\n",
    "adult_claim = adult_claim.rename(columns = {\"claim_amount\":\"claim_amount_count\"})"
   ]
  },
  {
   "cell_type": "code",
   "execution_count": 524,
   "id": "c39c5ae3",
   "metadata": {
    "scrolled": true
   },
   "outputs": [
    {
     "data": {
      "text/html": [
       "<div>\n",
       "<style scoped>\n",
       "    .dataframe tbody tr th:only-of-type {\n",
       "        vertical-align: middle;\n",
       "    }\n",
       "\n",
       "    .dataframe tbody tr th {\n",
       "        vertical-align: top;\n",
       "    }\n",
       "\n",
       "    .dataframe thead th {\n",
       "        text-align: right;\n",
       "    }\n",
       "</style>\n",
       "<table border=\"1\" class=\"dataframe\">\n",
       "  <thead>\n",
       "    <tr style=\"text-align: right;\">\n",
       "      <th></th>\n",
       "      <th></th>\n",
       "      <th>claim_amount_count</th>\n",
       "    </tr>\n",
       "    <tr>\n",
       "      <th>State</th>\n",
       "      <th>incident_cause</th>\n",
       "      <th></th>\n",
       "    </tr>\n",
       "  </thead>\n",
       "  <tbody>\n",
       "    <tr>\n",
       "      <th rowspan=\"2\" valign=\"top\">AK</th>\n",
       "      <th>Driver error</th>\n",
       "      <td>6</td>\n",
       "    </tr>\n",
       "    <tr>\n",
       "      <th>Other driver error</th>\n",
       "      <td>4</td>\n",
       "    </tr>\n",
       "    <tr>\n",
       "      <th rowspan=\"2\" valign=\"top\">DE</th>\n",
       "      <th>Driver error</th>\n",
       "      <td>10</td>\n",
       "    </tr>\n",
       "    <tr>\n",
       "      <th>Other driver error</th>\n",
       "      <td>5</td>\n",
       "    </tr>\n",
       "    <tr>\n",
       "      <th rowspan=\"2\" valign=\"top\">TX</th>\n",
       "      <th>Driver error</th>\n",
       "      <td>6</td>\n",
       "    </tr>\n",
       "    <tr>\n",
       "      <th>Other driver error</th>\n",
       "      <td>4</td>\n",
       "    </tr>\n",
       "  </tbody>\n",
       "</table>\n",
       "</div>"
      ],
      "text/plain": [
       "                          claim_amount_count\n",
       "State incident_cause                        \n",
       "AK    Driver error                         6\n",
       "      Other driver error                   4\n",
       "DE    Driver error                        10\n",
       "      Other driver error                   5\n",
       "TX    Driver error                         6\n",
       "      Other driver error                   4"
      ]
     },
     "execution_count": 524,
     "metadata": {},
     "output_type": "execute_result"
    }
   ],
   "source": [
    "adult_claim.loc[ (adult_claim.incident_cause.str.lower().str.contains(\"driver\")) & ((adult_claim.State == \"AK\") |(adult_claim.State == \"TX\") | (adult_claim.State == \"DE\")),:].groupby([\"State\",\"incident_cause\"])[[\"claim_amount_count\"]].sum()"
   ]
  },
  {
   "cell_type": "markdown",
   "id": "f6ff455d",
   "metadata": {},
   "source": [
    "### 11. Draw a pie chart between the aggregated value of claim amount based on gender and segment. Represent the claim amount as a percentage on the pie chart."
   ]
  },
  {
   "cell_type": "code",
   "execution_count": 525,
   "id": "a48f9410",
   "metadata": {},
   "outputs": [
    {
     "data": {
      "text/html": [
       "<div>\n",
       "<style scoped>\n",
       "    .dataframe tbody tr th:only-of-type {\n",
       "        vertical-align: middle;\n",
       "    }\n",
       "\n",
       "    .dataframe tbody tr th {\n",
       "        vertical-align: top;\n",
       "    }\n",
       "\n",
       "    .dataframe thead th {\n",
       "        text-align: right;\n",
       "    }\n",
       "</style>\n",
       "<table border=\"1\" class=\"dataframe\">\n",
       "  <thead>\n",
       "    <tr style=\"text-align: right;\">\n",
       "      <th></th>\n",
       "      <th>gender</th>\n",
       "      <th>Segment</th>\n",
       "      <th>claim_amount</th>\n",
       "    </tr>\n",
       "  </thead>\n",
       "  <tbody>\n",
       "    <tr>\n",
       "      <th>0</th>\n",
       "      <td>Female</td>\n",
       "      <td>Gold</td>\n",
       "      <td>2110042.41</td>\n",
       "    </tr>\n",
       "    <tr>\n",
       "      <th>1</th>\n",
       "      <td>Female</td>\n",
       "      <td>Platinum</td>\n",
       "      <td>2369720.43</td>\n",
       "    </tr>\n",
       "    <tr>\n",
       "      <th>2</th>\n",
       "      <td>Female</td>\n",
       "      <td>Silver</td>\n",
       "      <td>1897301.87</td>\n",
       "    </tr>\n",
       "    <tr>\n",
       "      <th>3</th>\n",
       "      <td>Male</td>\n",
       "      <td>Gold</td>\n",
       "      <td>2655966.87</td>\n",
       "    </tr>\n",
       "    <tr>\n",
       "      <th>4</th>\n",
       "      <td>Male</td>\n",
       "      <td>Platinum</td>\n",
       "      <td>2096443.42</td>\n",
       "    </tr>\n",
       "    <tr>\n",
       "      <th>5</th>\n",
       "      <td>Male</td>\n",
       "      <td>Silver</td>\n",
       "      <td>2347130.84</td>\n",
       "    </tr>\n",
       "  </tbody>\n",
       "</table>\n",
       "</div>"
      ],
      "text/plain": [
       "   gender   Segment  claim_amount\n",
       "0  Female      Gold    2110042.41\n",
       "1  Female  Platinum    2369720.43\n",
       "2  Female    Silver    1897301.87\n",
       "3    Male      Gold    2655966.87\n",
       "4    Male  Platinum    2096443.42\n",
       "5    Male    Silver    2347130.84"
      ]
     },
     "execution_count": 525,
     "metadata": {},
     "output_type": "execute_result"
    }
   ],
   "source": [
    "Claim_gender_segment = round(customer_claim.groupby([\"gender\",\"Segment\"])[[\"claim_amount\"]].sum(),2).reset_index()\n",
    "Claim_gender_segment"
   ]
  },
  {
   "cell_type": "code",
   "execution_count": 526,
   "id": "35c0ce28",
   "metadata": {
    "scrolled": true
   },
   "outputs": [
    {
     "data": {
      "text/html": [
       "<div>\n",
       "<style scoped>\n",
       "    .dataframe tbody tr th:only-of-type {\n",
       "        vertical-align: middle;\n",
       "    }\n",
       "\n",
       "    .dataframe tbody tr th {\n",
       "        vertical-align: top;\n",
       "    }\n",
       "\n",
       "    .dataframe thead th {\n",
       "        text-align: right;\n",
       "    }\n",
       "</style>\n",
       "<table border=\"1\" class=\"dataframe\">\n",
       "  <thead>\n",
       "    <tr style=\"text-align: right;\">\n",
       "      <th>gender</th>\n",
       "      <th>Female</th>\n",
       "      <th>Male</th>\n",
       "    </tr>\n",
       "    <tr>\n",
       "      <th>Segment</th>\n",
       "      <th></th>\n",
       "      <th></th>\n",
       "    </tr>\n",
       "  </thead>\n",
       "  <tbody>\n",
       "    <tr>\n",
       "      <th>Gold</th>\n",
       "      <td>2110042.41</td>\n",
       "      <td>2655966.87</td>\n",
       "    </tr>\n",
       "    <tr>\n",
       "      <th>Platinum</th>\n",
       "      <td>2369720.43</td>\n",
       "      <td>2096443.42</td>\n",
       "    </tr>\n",
       "    <tr>\n",
       "      <th>Silver</th>\n",
       "      <td>1897301.87</td>\n",
       "      <td>2347130.84</td>\n",
       "    </tr>\n",
       "  </tbody>\n",
       "</table>\n",
       "</div>"
      ],
      "text/plain": [
       "gender        Female        Male\n",
       "Segment                         \n",
       "Gold      2110042.41  2655966.87\n",
       "Platinum  2369720.43  2096443.42\n",
       "Silver    1897301.87  2347130.84"
      ]
     },
     "execution_count": 526,
     "metadata": {},
     "output_type": "execute_result"
    }
   ],
   "source": [
    "Claim_gender_segment_pivot = Claim_gender_segment.pivot(index = \"Segment\", columns = \"gender\",values = \"claim_amount\")\n",
    "Claim_gender_segment_pivot"
   ]
  },
  {
   "cell_type": "code",
   "execution_count": 527,
   "id": "fd2a4541",
   "metadata": {},
   "outputs": [
    {
     "data": {
      "image/png": "[encoded data removed]",
      "text/plain": [
       "<Figure size 1440x720 with 3 Axes>"
      ]
     },
     "metadata": {},
     "output_type": "display_data"
    }
   ],
   "source": [
    "Claim_gender_segment_pivot.T.plot(kind=\"pie\", subplots= True, legend= True,figsize=(20,10))\n",
    "plt.show()"
   ]
  },
  {
   "cell_type": "markdown",
   "id": "7413ccb2",
   "metadata": {},
   "source": [
    "### 12. Among males and females, which gender had claimed the most for any type of driver related issues? E.g. This metric can be compared using a bar chart"
   ]
  },
  {
   "cell_type": "code",
   "execution_count": 528,
   "id": "df73d518",
   "metadata": {},
   "outputs": [],
   "source": [
    "gender_claim = customer_claim.loc[(customer_claim.incident_cause.str.lower().str.contains(\"driver\")),:]"
   ]
  },
  {
   "cell_type": "code",
   "execution_count": 529,
   "id": "7b309500",
   "metadata": {},
   "outputs": [],
   "source": [
    "gender_claim = gender_claim.groupby(by= \"gender\")[[\"gender\"]].count().add_prefix(\"countOf_\").reset_index()"
   ]
  },
  {
   "cell_type": "code",
   "execution_count": 530,
   "id": "dbaf1b18",
   "metadata": {},
   "outputs": [
    {
     "data": {
      "text/plain": [
       "[]"
      ]
     },
     "execution_count": 530,
     "metadata": {},
     "output_type": "execute_result"
    },
    {
     "data": {
      "image/png": "[encoded data removed]",
      "text/plain": [
       "<Figure size 432x288 with 1 Axes>"
      ]
     },
     "metadata": {
      "needs_background": "light"
     },
     "output_type": "display_data"
    }
   ],
   "source": [
    "sns.barplot(x= \"gender\", y = \"countOf_gender\", data= gender_claim)\n",
    "plt.plot()"
   ]
  },
  {
   "cell_type": "markdown",
   "id": "23478926",
   "metadata": {},
   "source": [
    "### 13. Which age group had the maximum fraudulent policy claims? Visualize it on a bar chart."
   ]
  },
  {
   "cell_type": "code",
   "execution_count": 531,
   "id": "3755011e",
   "metadata": {
    "scrolled": true
   },
   "outputs": [
    {
     "data": {
      "text/html": [
       "<div>\n",
       "<style scoped>\n",
       "    .dataframe tbody tr th:only-of-type {\n",
       "        vertical-align: middle;\n",
       "    }\n",
       "\n",
       "    .dataframe tbody tr th {\n",
       "        vertical-align: top;\n",
       "    }\n",
       "\n",
       "    .dataframe thead th {\n",
       "        text-align: right;\n",
       "    }\n",
       "</style>\n",
       "<table border=\"1\" class=\"dataframe\">\n",
       "  <thead>\n",
       "    <tr style=\"text-align: right;\">\n",
       "      <th></th>\n",
       "      <th>fraudulent</th>\n",
       "      <th>AgeGroup</th>\n",
       "      <th>countOf_fraudulent</th>\n",
       "    </tr>\n",
       "  </thead>\n",
       "  <tbody>\n",
       "    <tr>\n",
       "      <th>0</th>\n",
       "      <td>No</td>\n",
       "      <td>Adult</td>\n",
       "      <td>610</td>\n",
       "    </tr>\n",
       "    <tr>\n",
       "      <th>1</th>\n",
       "      <td>No</td>\n",
       "      <td>Senior</td>\n",
       "      <td>54</td>\n",
       "    </tr>\n",
       "    <tr>\n",
       "      <th>2</th>\n",
       "      <td>No</td>\n",
       "      <td>Youth</td>\n",
       "      <td>169</td>\n",
       "    </tr>\n",
       "    <tr>\n",
       "      <th>3</th>\n",
       "      <td>Yes</td>\n",
       "      <td>Adult</td>\n",
       "      <td>185</td>\n",
       "    </tr>\n",
       "    <tr>\n",
       "      <th>4</th>\n",
       "      <td>Yes</td>\n",
       "      <td>Senior</td>\n",
       "      <td>21</td>\n",
       "    </tr>\n",
       "    <tr>\n",
       "      <th>5</th>\n",
       "      <td>Yes</td>\n",
       "      <td>Youth</td>\n",
       "      <td>39</td>\n",
       "    </tr>\n",
       "  </tbody>\n",
       "</table>\n",
       "</div>"
      ],
      "text/plain": [
       "  fraudulent AgeGroup  countOf_fraudulent\n",
       "0         No    Adult                 610\n",
       "1         No   Senior                  54\n",
       "2         No    Youth                 169\n",
       "3        Yes    Adult                 185\n",
       "4        Yes   Senior                  21\n",
       "5        Yes    Youth                  39"
      ]
     },
     "execution_count": 531,
     "metadata": {},
     "output_type": "execute_result"
    }
   ],
   "source": [
    "maxFraud_ageGroup = customer_claim.groupby([\"fraudulent\",\"AgeGroup\"])[[\"fraudulent\"]].count().add_prefix(\"countOf_\").reset_index()\n",
    "maxFraud_ageGroup"
   ]
  },
  {
   "cell_type": "code",
   "execution_count": 532,
   "id": "55e1b679",
   "metadata": {},
   "outputs": [
    {
     "data": {
      "text/plain": [
       "[]"
      ]
     },
     "execution_count": 532,
     "metadata": {},
     "output_type": "execute_result"
    },
    {
     "data": {
      "image/png": "[encoded data removed]",
      "text/plain": [
       "<Figure size 432x288 with 1 Axes>"
      ]
     },
     "metadata": {
      "needs_background": "light"
     },
     "output_type": "display_data"
    }
   ],
   "source": [
    "maxFraud_ageGroup = maxFraud_ageGroup.loc[((maxFraud_ageGroup.fraudulent)==\"Yes\") ]\n",
    "sns.barplot(x= \"AgeGroup\", y=\"countOf_fraudulent\", data= maxFraud_ageGroup)\n",
    "plt.plot()"
   ]
  },
  {
   "cell_type": "raw",
   "id": "c1863b7c",
   "metadata": {},
   "source": [
    "FROM THE ABOVE TABLE WE CAN FIND OUT THAT MAXIMUM FRAUDULENT IS DONE BY ADULTS  AND LEAST BY SENIOR Age groups."
   ]
  },
  {
   "cell_type": "code",
   "execution_count": 533,
   "id": "f0ba9e69",
   "metadata": {
    "scrolled": true
   },
   "outputs": [
    {
     "name": "stderr",
     "output_type": "stream",
     "text": [
      "<ipython-input-533-12e529422534>:1: SettingWithCopyWarning: \n",
      "A value is trying to be set on a copy of a slice from a DataFrame.\n",
      "Try using .loc[row_indexer,col_indexer] = value instead\n",
      "\n",
      "See the caveats in the documentation: https://pandas.pydata.org/pandas-docs/stable/user_guide/indexing.html#returning-a-view-versus-a-copy\n",
      "  customer_claim['Frauds'] = np.where(customer_claim['fraudulent'] == \"Yes\",1,0)\n"
     ]
    },
    {
     "data": {
      "text/plain": [
       "[]"
      ]
     },
     "execution_count": 533,
     "metadata": {},
     "output_type": "execute_result"
    },
    {
     "data": {
      "image/png": "[encoded data removed]",
      "text/plain": [
       "<Figure size 432x288 with 1 Axes>"
      ]
     },
     "metadata": {
      "needs_background": "light"
     },
     "output_type": "display_data"
    }
   ],
   "source": [
    "customer_claim['Frauds'] = np.where(customer_claim['fraudulent'] == \"Yes\",1,0)\n",
    "customer_claim\n",
    "AgeGroup_max_frauds= customer_claim.groupby([\"AgeGroup\"])[\"Frauds\"].sum().reset_index()\n",
    "AgeGroup_max_frauds\n",
    "sns.barplot(x= \"AgeGroup\", y=\"Frauds\", data=AgeGroup_max_frauds )\n",
    "plt.plot()\n"
   ]
  },
  {
   "cell_type": "markdown",
   "id": "2640c431",
   "metadata": {},
   "source": [
    "###  14. Visualize the monthly trend of the total amount that has been claimed by the customers. Ensure that on the “month” axis, the month is in a chronological order not alphabetical order."
   ]
  },
  {
   "cell_type": "code",
   "execution_count": 534,
   "id": "8fff308d",
   "metadata": {},
   "outputs": [
    {
     "name": "stderr",
     "output_type": "stream",
     "text": [
      "<ipython-input-534-5b30891f6ecc>:1: SettingWithCopyWarning: \n",
      "A value is trying to be set on a copy of a slice from a DataFrame.\n",
      "Try using .loc[row_indexer,col_indexer] = value instead\n",
      "\n",
      "See the caveats in the documentation: https://pandas.pydata.org/pandas-docs/stable/user_guide/indexing.html#returning-a-view-versus-a-copy\n",
      "  customer_claim[\"claim_month\"] = pd.to_datetime(customer_claim[\"claim_date\"])\n",
      "<ipython-input-534-5b30891f6ecc>:2: SettingWithCopyWarning: \n",
      "A value is trying to be set on a copy of a slice from a DataFrame.\n",
      "Try using .loc[row_indexer,col_indexer] = value instead\n",
      "\n",
      "See the caveats in the documentation: https://pandas.pydata.org/pandas-docs/stable/user_guide/indexing.html#returning-a-view-versus-a-copy\n",
      "  customer_claim[\"Claim_month\"] = customer_claim[\"claim_date\"].dt.month\n"
     ]
    },
    {
     "data": {
      "text/html": [
       "<div>\n",
       "<style scoped>\n",
       "    .dataframe tbody tr th:only-of-type {\n",
       "        vertical-align: middle;\n",
       "    }\n",
       "\n",
       "    .dataframe tbody tr th {\n",
       "        vertical-align: top;\n",
       "    }\n",
       "\n",
       "    .dataframe thead th {\n",
       "        text-align: right;\n",
       "    }\n",
       "</style>\n",
       "<table border=\"1\" class=\"dataframe\">\n",
       "  <thead>\n",
       "    <tr style=\"text-align: right;\">\n",
       "      <th></th>\n",
       "      <th>claim_id</th>\n",
       "      <th>customer_id</th>\n",
       "      <th>incident_cause</th>\n",
       "      <th>claim_date</th>\n",
       "      <th>claim_area</th>\n",
       "      <th>police_report</th>\n",
       "      <th>claim_type</th>\n",
       "      <th>claim_amount</th>\n",
       "      <th>total_policy_claims</th>\n",
       "      <th>fraudulent</th>\n",
       "      <th>...</th>\n",
       "      <th>DateOfBirth</th>\n",
       "      <th>State</th>\n",
       "      <th>Contact</th>\n",
       "      <th>Segment</th>\n",
       "      <th>unreported_claims</th>\n",
       "      <th>age</th>\n",
       "      <th>AgeGroup</th>\n",
       "      <th>Frauds</th>\n",
       "      <th>claim_month</th>\n",
       "      <th>Claim_month</th>\n",
       "    </tr>\n",
       "  </thead>\n",
       "  <tbody>\n",
       "    <tr>\n",
       "      <th>0</th>\n",
       "      <td>54004764</td>\n",
       "      <td>21868593</td>\n",
       "      <td>Driver error</td>\n",
       "      <td>2017-11-27</td>\n",
       "      <td>Auto</td>\n",
       "      <td>No</td>\n",
       "      <td>Material only</td>\n",
       "      <td>2980.0</td>\n",
       "      <td>1.0</td>\n",
       "      <td>No</td>\n",
       "      <td>...</td>\n",
       "      <td>1979-01-12</td>\n",
       "      <td>VT</td>\n",
       "      <td>789-916-8172</td>\n",
       "      <td>Platinum</td>\n",
       "      <td>0</td>\n",
       "      <td>43</td>\n",
       "      <td>Adult</td>\n",
       "      <td>0</td>\n",
       "      <td>2017-11-27</td>\n",
       "      <td>11</td>\n",
       "    </tr>\n",
       "    <tr>\n",
       "      <th>1</th>\n",
       "      <td>33985796</td>\n",
       "      <td>75740424</td>\n",
       "      <td>Crime</td>\n",
       "      <td>2018-10-03</td>\n",
       "      <td>Home</td>\n",
       "      <td>Unknown</td>\n",
       "      <td>Material only</td>\n",
       "      <td>2980.0</td>\n",
       "      <td>3.0</td>\n",
       "      <td>No</td>\n",
       "      <td>...</td>\n",
       "      <td>1970-01-13</td>\n",
       "      <td>ME</td>\n",
       "      <td>265-543-1264</td>\n",
       "      <td>Silver</td>\n",
       "      <td>1</td>\n",
       "      <td>52</td>\n",
       "      <td>Adult</td>\n",
       "      <td>0</td>\n",
       "      <td>2018-10-03</td>\n",
       "      <td>10</td>\n",
       "    </tr>\n",
       "  </tbody>\n",
       "</table>\n",
       "<p>2 rows × 22 columns</p>\n",
       "</div>"
      ],
      "text/plain": [
       "   claim_id  customer_id incident_cause claim_date claim_area police_report  \\\n",
       "0  54004764     21868593   Driver error 2017-11-27       Auto            No   \n",
       "1  33985796     75740424          Crime 2018-10-03       Home       Unknown   \n",
       "\n",
       "      claim_type  claim_amount total_policy_claims fraudulent  ...  \\\n",
       "0  Material only        2980.0                 1.0         No  ...   \n",
       "1  Material only        2980.0                 3.0         No  ...   \n",
       "\n",
       "   DateOfBirth State       Contact   Segment unreported_claims age  AgeGroup  \\\n",
       "0   1979-01-12    VT  789-916-8172  Platinum                 0  43     Adult   \n",
       "1   1970-01-13    ME  265-543-1264    Silver                 1  52     Adult   \n",
       "\n",
       "   Frauds claim_month  Claim_month  \n",
       "0       0  2017-11-27           11  \n",
       "1       0  2018-10-03           10  \n",
       "\n",
       "[2 rows x 22 columns]"
      ]
     },
     "execution_count": 534,
     "metadata": {},
     "output_type": "execute_result"
    }
   ],
   "source": [
    "customer_claim[\"claim_month\"] = pd.to_datetime(customer_claim[\"claim_date\"])\n",
    "customer_claim[\"Claim_month\"] = customer_claim[\"claim_date\"].dt.month\n",
    "customer_claim.head(2)"
   ]
  },
  {
   "cell_type": "code",
   "execution_count": 535,
   "id": "2550781e",
   "metadata": {},
   "outputs": [
    {
     "data": {
      "text/html": [
       "<div>\n",
       "<style scoped>\n",
       "    .dataframe tbody tr th:only-of-type {\n",
       "        vertical-align: middle;\n",
       "    }\n",
       "\n",
       "    .dataframe tbody tr th {\n",
       "        vertical-align: top;\n",
       "    }\n",
       "\n",
       "    .dataframe thead th {\n",
       "        text-align: right;\n",
       "    }\n",
       "</style>\n",
       "<table border=\"1\" class=\"dataframe\">\n",
       "  <thead>\n",
       "    <tr style=\"text-align: right;\">\n",
       "      <th></th>\n",
       "      <th></th>\n",
       "      <th>total_policy_claims</th>\n",
       "    </tr>\n",
       "    <tr>\n",
       "      <th>Claim_month</th>\n",
       "      <th>total_policy_claims</th>\n",
       "      <th></th>\n",
       "    </tr>\n",
       "  </thead>\n",
       "  <tbody>\n",
       "    <tr>\n",
       "      <th rowspan=\"5\" valign=\"top\">1</th>\n",
       "      <th>1.0</th>\n",
       "      <td>77</td>\n",
       "    </tr>\n",
       "    <tr>\n",
       "      <th>2.0</th>\n",
       "      <td>12</td>\n",
       "    </tr>\n",
       "    <tr>\n",
       "      <th>3.0</th>\n",
       "      <td>6</td>\n",
       "    </tr>\n",
       "    <tr>\n",
       "      <th>4.0</th>\n",
       "      <td>6</td>\n",
       "    </tr>\n",
       "    <tr>\n",
       "      <th>5.0</th>\n",
       "      <td>2</td>\n",
       "    </tr>\n",
       "    <tr>\n",
       "      <th>...</th>\n",
       "      <th>...</th>\n",
       "      <td>...</td>\n",
       "    </tr>\n",
       "    <tr>\n",
       "      <th rowspan=\"5\" valign=\"top\">12</th>\n",
       "      <th>1.0</th>\n",
       "      <td>33</td>\n",
       "    </tr>\n",
       "    <tr>\n",
       "      <th>2.0</th>\n",
       "      <td>5</td>\n",
       "    </tr>\n",
       "    <tr>\n",
       "      <th>3.0</th>\n",
       "      <td>5</td>\n",
       "    </tr>\n",
       "    <tr>\n",
       "      <th>4.0</th>\n",
       "      <td>2</td>\n",
       "    </tr>\n",
       "    <tr>\n",
       "      <th>5.0</th>\n",
       "      <td>2</td>\n",
       "    </tr>\n",
       "  </tbody>\n",
       "</table>\n",
       "<p>71 rows × 1 columns</p>\n",
       "</div>"
      ],
      "text/plain": [
       "                                 total_policy_claims\n",
       "Claim_month total_policy_claims                     \n",
       "1           1.0                                   77\n",
       "            2.0                                   12\n",
       "            3.0                                    6\n",
       "            4.0                                    6\n",
       "            5.0                                    2\n",
       "...                                              ...\n",
       "12          1.0                                   33\n",
       "            2.0                                    5\n",
       "            3.0                                    5\n",
       "            4.0                                    2\n",
       "            5.0                                    2\n",
       "\n",
       "[71 rows x 1 columns]"
      ]
     },
     "execution_count": 535,
     "metadata": {},
     "output_type": "execute_result"
    }
   ],
   "source": [
    "customer_claim.groupby([\"Claim_month\",\"total_policy_claims\"])[[\"total_policy_claims\"]].count()\n"
   ]
  },
  {
   "cell_type": "raw",
   "id": "22563058",
   "metadata": {},
   "source": [
    "pd.pivot_table(customer_claim,index=\"Claim_month\",values=\"claim_amount\").plot(kind='bar')\n",
    "plt.ylabel('Total amount spend')\n",
    "plt.show()"
   ]
  },
  {
   "cell_type": "markdown",
   "id": "3a04b4b8",
   "metadata": {},
   "source": [
    "### 15. What is the average claim amount for gender and age categories and  suitably represent the above using a facetted bar chart, one facet that represents fraudulent claims and the other for non-fraudulent claims."
   ]
  },
  {
   "cell_type": "code",
   "execution_count": 580,
   "id": "c1bf4943",
   "metadata": {},
   "outputs": [],
   "source": [
    "# stats testing | hypothesis testing\n",
    "import scipy.stats as stats\n",
    "\n",
    "# statistical modelling\n",
    "import statsmodels.formula.api as smf\n",
    "\n",
    "# subpackages from sklearn for data handling, variable selection and model evaluation\n",
    "from sklearn.model_selection import train_test_split\n",
    "from sklearn.metrics import mean_squared_error, mean_absolute_error, mean_absolute_percentage_error\n",
    "\n",
    "# for modelling - stats and ML\n",
    "import sklearn\n",
    "from sklearn.linear_model import LinearRegression\n",
    "\n",
    "from sklearn.feature_selection import f_regression"
   ]
  },
  {
   "cell_type": "code",
   "execution_count": 581,
   "id": "aa414a17",
   "metadata": {},
   "outputs": [],
   "source": [
    "Frauds_amount_gender= pd.DataFrame(customer_claim.loc[(customer_claim.fraudulent==\"Yes\")].groupby([\"gender\",\"AgeGroup\"])[[\"claim_amount\"]].mean().add_prefix(\"Fraud_\"))\n",
    "Non_Frauds_amount_gender=pd.DataFrame(customer_claim.loc[(customer_claim.fraudulent==\"No\")].groupby([\"gender\",\"AgeGroup\"])[[\"claim_amount\"]].mean().add_prefix(\"Non_Fraud_\"))"
   ]
  },
  {
   "cell_type": "code",
   "execution_count": 582,
   "id": "9cd4fe8a",
   "metadata": {},
   "outputs": [
    {
     "data": {
      "text/html": [
       "<div>\n",
       "<style scoped>\n",
       "    .dataframe tbody tr th:only-of-type {\n",
       "        vertical-align: middle;\n",
       "    }\n",
       "\n",
       "    .dataframe tbody tr th {\n",
       "        vertical-align: top;\n",
       "    }\n",
       "\n",
       "    .dataframe thead th {\n",
       "        text-align: right;\n",
       "    }\n",
       "</style>\n",
       "<table border=\"1\" class=\"dataframe\">\n",
       "  <thead>\n",
       "    <tr style=\"text-align: right;\">\n",
       "      <th></th>\n",
       "      <th></th>\n",
       "      <th>Fraud_claim_amount</th>\n",
       "    </tr>\n",
       "    <tr>\n",
       "      <th>gender</th>\n",
       "      <th>AgeGroup</th>\n",
       "      <th></th>\n",
       "    </tr>\n",
       "  </thead>\n",
       "  <tbody>\n",
       "    <tr>\n",
       "      <th rowspan=\"3\" valign=\"top\">Female</th>\n",
       "      <th>Adult</th>\n",
       "      <td>12630.098218</td>\n",
       "    </tr>\n",
       "    <tr>\n",
       "      <th>Senior</th>\n",
       "      <td>3779.076923</td>\n",
       "    </tr>\n",
       "    <tr>\n",
       "      <th>Youth</th>\n",
       "      <td>9220.450407</td>\n",
       "    </tr>\n",
       "    <tr>\n",
       "      <th rowspan=\"3\" valign=\"top\">Male</th>\n",
       "      <th>Adult</th>\n",
       "      <td>16049.169551</td>\n",
       "    </tr>\n",
       "    <tr>\n",
       "      <th>Senior</th>\n",
       "      <td>16879.125000</td>\n",
       "    </tr>\n",
       "    <tr>\n",
       "      <th>Youth</th>\n",
       "      <td>7799.610535</td>\n",
       "    </tr>\n",
       "  </tbody>\n",
       "</table>\n",
       "</div>"
      ],
      "text/plain": [
       "                 Fraud_claim_amount\n",
       "gender AgeGroup                    \n",
       "Female Adult           12630.098218\n",
       "       Senior           3779.076923\n",
       "       Youth            9220.450407\n",
       "Male   Adult           16049.169551\n",
       "       Senior          16879.125000\n",
       "       Youth            7799.610535"
      ]
     },
     "execution_count": 582,
     "metadata": {},
     "output_type": "execute_result"
    }
   ],
   "source": [
    "Frauds_amount_gender"
   ]
  },
  {
   "cell_type": "code",
   "execution_count": 583,
   "id": "20707a76",
   "metadata": {},
   "outputs": [
    {
     "data": {
      "text/html": [
       "<div>\n",
       "<style scoped>\n",
       "    .dataframe tbody tr th:only-of-type {\n",
       "        vertical-align: middle;\n",
       "    }\n",
       "\n",
       "    .dataframe tbody tr th {\n",
       "        vertical-align: top;\n",
       "    }\n",
       "\n",
       "    .dataframe thead th {\n",
       "        text-align: right;\n",
       "    }\n",
       "</style>\n",
       "<table border=\"1\" class=\"dataframe\">\n",
       "  <thead>\n",
       "    <tr style=\"text-align: right;\">\n",
       "      <th></th>\n",
       "      <th></th>\n",
       "      <th>Non_Fraud_claim_amount</th>\n",
       "    </tr>\n",
       "    <tr>\n",
       "      <th>gender</th>\n",
       "      <th>AgeGroup</th>\n",
       "      <th></th>\n",
       "    </tr>\n",
       "  </thead>\n",
       "  <tbody>\n",
       "    <tr>\n",
       "      <th rowspan=\"3\" valign=\"top\">Female</th>\n",
       "      <th>Adult</th>\n",
       "      <td>11982.026657</td>\n",
       "    </tr>\n",
       "    <tr>\n",
       "      <th>Senior</th>\n",
       "      <td>14965.372409</td>\n",
       "    </tr>\n",
       "    <tr>\n",
       "      <th>Youth</th>\n",
       "      <td>13174.536397</td>\n",
       "    </tr>\n",
       "    <tr>\n",
       "      <th rowspan=\"3\" valign=\"top\">Male</th>\n",
       "      <th>Adult</th>\n",
       "      <td>12375.020071</td>\n",
       "    </tr>\n",
       "    <tr>\n",
       "      <th>Senior</th>\n",
       "      <td>12607.765976</td>\n",
       "    </tr>\n",
       "    <tr>\n",
       "      <th>Youth</th>\n",
       "      <td>12089.533384</td>\n",
       "    </tr>\n",
       "  </tbody>\n",
       "</table>\n",
       "</div>"
      ],
      "text/plain": [
       "                 Non_Fraud_claim_amount\n",
       "gender AgeGroup                        \n",
       "Female Adult               11982.026657\n",
       "       Senior              14965.372409\n",
       "       Youth               13174.536397\n",
       "Male   Adult               12375.020071\n",
       "       Senior              12607.765976\n",
       "       Youth               12089.533384"
      ]
     },
     "execution_count": 583,
     "metadata": {},
     "output_type": "execute_result"
    }
   ],
   "source": [
    "Non_Frauds_amount_gender"
   ]
  },
  {
   "cell_type": "code",
   "execution_count": 584,
   "id": "a0caa2d6",
   "metadata": {},
   "outputs": [
    {
     "data": {
      "text/html": [
       "<div>\n",
       "<style scoped>\n",
       "    .dataframe tbody tr th:only-of-type {\n",
       "        vertical-align: middle;\n",
       "    }\n",
       "\n",
       "    .dataframe tbody tr th {\n",
       "        vertical-align: top;\n",
       "    }\n",
       "\n",
       "    .dataframe thead th {\n",
       "        text-align: right;\n",
       "    }\n",
       "</style>\n",
       "<table border=\"1\" class=\"dataframe\">\n",
       "  <thead>\n",
       "    <tr style=\"text-align: right;\">\n",
       "      <th></th>\n",
       "      <th></th>\n",
       "      <th>Fraud_claim_amount</th>\n",
       "      <th>Non_Fraud_claim_amount</th>\n",
       "    </tr>\n",
       "    <tr>\n",
       "      <th>gender</th>\n",
       "      <th>AgeGroup</th>\n",
       "      <th></th>\n",
       "      <th></th>\n",
       "    </tr>\n",
       "  </thead>\n",
       "  <tbody>\n",
       "    <tr>\n",
       "      <th rowspan=\"3\" valign=\"top\">Female</th>\n",
       "      <th>Adult</th>\n",
       "      <td>12630.10</td>\n",
       "      <td>11982.03</td>\n",
       "    </tr>\n",
       "    <tr>\n",
       "      <th>Senior</th>\n",
       "      <td>3779.08</td>\n",
       "      <td>14965.37</td>\n",
       "    </tr>\n",
       "    <tr>\n",
       "      <th>Youth</th>\n",
       "      <td>9220.45</td>\n",
       "      <td>13174.54</td>\n",
       "    </tr>\n",
       "    <tr>\n",
       "      <th rowspan=\"3\" valign=\"top\">Male</th>\n",
       "      <th>Adult</th>\n",
       "      <td>16049.17</td>\n",
       "      <td>12375.02</td>\n",
       "    </tr>\n",
       "    <tr>\n",
       "      <th>Senior</th>\n",
       "      <td>16879.12</td>\n",
       "      <td>12607.77</td>\n",
       "    </tr>\n",
       "    <tr>\n",
       "      <th>Youth</th>\n",
       "      <td>7799.61</td>\n",
       "      <td>12089.53</td>\n",
       "    </tr>\n",
       "  </tbody>\n",
       "</table>\n",
       "</div>"
      ],
      "text/plain": [
       "                 Fraud_claim_amount  Non_Fraud_claim_amount\n",
       "gender AgeGroup                                            \n",
       "Female Adult               12630.10                11982.03\n",
       "       Senior               3779.08                14965.37\n",
       "       Youth                9220.45                13174.54\n",
       "Male   Adult               16049.17                12375.02\n",
       "       Senior              16879.12                12607.77\n",
       "       Youth                7799.61                12089.53"
      ]
     },
     "execution_count": 584,
     "metadata": {},
     "output_type": "execute_result"
    }
   ],
   "source": [
    "Claims_age_gender=round(pd.merge(Frauds_amount_gender,Non_Frauds_amount_gender, on=[\"gender\",\"AgeGroup\"]),2)\n",
    "Claims_age_gender"
   ]
  },
  {
   "cell_type": "code",
   "execution_count": 585,
   "id": "a01de4dd",
   "metadata": {},
   "outputs": [
    {
     "data": {
      "image/png": "[encoded data removed]",
      "text/plain": [
       "<Figure size 720x720 with 2 Axes>"
      ]
     },
     "metadata": {
      "needs_background": "light"
     },
     "output_type": "display_data"
    }
   ],
   "source": [
    "Claims_age_gender.plot(kind=\"bar\", subplots= True, legend= True,figsize=(10,10))\n",
    "plt.show()"
   ]
  },
  {
   "cell_type": "code",
   "execution_count": null,
   "id": "4082087b",
   "metadata": {},
   "outputs": [],
   "source": []
  },
  {
   "cell_type": "code",
   "execution_count": null,
   "id": "c3af5676",
   "metadata": {},
   "outputs": [],
   "source": []
  },
  {
   "cell_type": "markdown",
   "id": "561173ff",
   "metadata": {},
   "source": [
    "Based on the conclusions from exploratory analysis as well as suitable\n",
    "statistical tests, answer the below questions. Please include a detailed\n",
    "write-up on the parameters taken into consideration, the Hypothesis\n",
    "testing steps, conclusion from the p-values and the business implications of\n",
    "the statements."
   ]
  },
  {
   "cell_type": "markdown",
   "id": "e35d0b2a",
   "metadata": {},
   "source": [
    "### 16. Is there any similarity in the amount claimed by males and females?"
   ]
  },
  {
   "cell_type": "code",
   "execution_count": 586,
   "id": "ddf79df1",
   "metadata": {},
   "outputs": [],
   "source": [
    "claim_male = customer_claim['claim_amount'].loc[customer_claim['gender']==\"Male\"]\n",
    "claim_female=customer_claim['claim_amount'].loc[customer_claim['gender']==\"Female\"]"
   ]
  },
  {
   "cell_type": "code",
   "execution_count": 587,
   "id": "ad68f08d",
   "metadata": {},
   "outputs": [
    {
     "data": {
      "text/plain": [
       "12884.829631308425"
      ]
     },
     "execution_count": 587,
     "metadata": {},
     "output_type": "execute_result"
    }
   ],
   "source": [
    "claim_male\n",
    "claim_male.mean()"
   ]
  },
  {
   "cell_type": "code",
   "execution_count": 588,
   "id": "8f44c21b",
   "metadata": {},
   "outputs": [
    {
     "data": {
      "text/plain": [
       "12100.692029236623"
      ]
     },
     "execution_count": 588,
     "metadata": {},
     "output_type": "execute_result"
    }
   ],
   "source": [
    "claim_female\n",
    "claim_female.mean()"
   ]
  },
  {
   "cell_type": "code",
   "execution_count": 589,
   "id": "5c52d026",
   "metadata": {},
   "outputs": [
    {
     "name": "stdout",
     "output_type": "stream",
     "text": [
      "The average amount claimed by males is 12884.829631308425\n",
      "The average amount claimed by females is 12100.692029236623\n"
     ]
    }
   ],
   "source": [
    "print(\"The average amount claimed by males is {}\".format(claim_male.mean()))\n",
    "\n",
    "print(\"The average amount claimed by females is {}\".format(claim_female.mean()))"
   ]
  },
  {
   "cell_type": "raw",
   "id": "ea7eb491",
   "metadata": {},
   "source": [
    "# Two sample t-test for means of two samples:\n",
    "# To conduct a valid test: (Assumptions for two sample t-test)\n",
    "# \n",
    "# * Data values must be independent. Measurements for one observation do not affect measurements for any other observation.\n",
    "# * Data in each group must be obtained via a random sample from the population.\n",
    "# * Data in each group are normally distributed.\n",
    "# * Data values are continuous.\n",
    "# * The variances for the two independent groups are equal."
   ]
  },
  {
   "cell_type": "code",
   "execution_count": 590,
   "id": "62d5ee81",
   "metadata": {},
   "outputs": [
    {
     "data": {
      "text/plain": [
       "0.9630529881732577"
      ]
     },
     "execution_count": 590,
     "metadata": {},
     "output_type": "execute_result"
    }
   ],
   "source": [
    "#checking for equal variances \n",
    "eq_var = stats.ttest_ind(a= claim_male,\n",
    "                b= claim_female,\n",
    "                equal_var=True)    # equal variance\n",
    "eq_var.statistic\n"
   ]
  },
  {
   "cell_type": "code",
   "execution_count": 591,
   "id": "f0166e1a",
   "metadata": {},
   "outputs": [
    {
     "data": {
      "text/plain": [
       "0.9637241707490979"
      ]
     },
     "execution_count": 591,
     "metadata": {},
     "output_type": "execute_result"
    }
   ],
   "source": [
    "uneq_var = stats.ttest_ind(a= claim_male,\n",
    "                b= claim_female,\n",
    "                equal_var=False)    # UnEqual variance\n",
    "uneq_var.statistic\n"
   ]
  },
  {
   "cell_type": "raw",
   "id": "e4d1e0d6",
   "metadata": {},
   "source": [
    "## thus equal variances"
   ]
  },
  {
   "cell_type": "code",
   "execution_count": 592,
   "id": "3e8ea121",
   "metadata": {},
   "outputs": [],
   "source": [
    "t= eq_var.statistic\n",
    "p= eq_var.pvalue"
   ]
  },
  {
   "cell_type": "code",
   "execution_count": 593,
   "id": "74d5e8db",
   "metadata": {},
   "outputs": [
    {
     "name": "stdout",
     "output_type": "stream",
     "text": [
      " For the above test, the t-score is 0.9630529881732577 and the p-value is 0.3357373087404285\n",
      "Thus We fail to reject null hypothesis\n"
     ]
    }
   ],
   "source": [
    "print(\" For the above test, the t-score is {} and the p-value is {}\".format(t,p))\n",
    "\n",
    "if(p<0.05):\n",
    "    print('Thus We reject null hypothesis')\n",
    "else:\n",
    "    print('Thus We fail to reject null hypothesis')\n",
    "\n"
   ]
  },
  {
   "cell_type": "raw",
   "id": "d21d2971",
   "metadata": {},
   "source": [
    " As the significance value of t test is greater than 0.05 we can conclude that there the amount claimed by males and females are similar."
   ]
  },
  {
   "cell_type": "markdown",
   "id": "f21a4827",
   "metadata": {},
   "source": [
    "### 17. Is there any relationship between age category and segment?"
   ]
  },
  {
   "cell_type": "code",
   "execution_count": 594,
   "id": "dea481db",
   "metadata": {},
   "outputs": [
    {
     "data": {
      "text/html": [
       "<div>\n",
       "<style scoped>\n",
       "    .dataframe tbody tr th:only-of-type {\n",
       "        vertical-align: middle;\n",
       "    }\n",
       "\n",
       "    .dataframe tbody tr th {\n",
       "        vertical-align: top;\n",
       "    }\n",
       "\n",
       "    .dataframe thead th {\n",
       "        text-align: right;\n",
       "    }\n",
       "</style>\n",
       "<table border=\"1\" class=\"dataframe\">\n",
       "  <thead>\n",
       "    <tr style=\"text-align: right;\">\n",
       "      <th>Segment</th>\n",
       "      <th>Gold</th>\n",
       "      <th>Platinum</th>\n",
       "      <th>Silver</th>\n",
       "      <th>All</th>\n",
       "    </tr>\n",
       "    <tr>\n",
       "      <th>AgeGroup</th>\n",
       "      <th></th>\n",
       "      <th></th>\n",
       "      <th></th>\n",
       "      <th></th>\n",
       "    </tr>\n",
       "  </thead>\n",
       "  <tbody>\n",
       "    <tr>\n",
       "      <th>Adult</th>\n",
       "      <td>272</td>\n",
       "      <td>266</td>\n",
       "      <td>257</td>\n",
       "      <td>795</td>\n",
       "    </tr>\n",
       "    <tr>\n",
       "      <th>Senior</th>\n",
       "      <td>28</td>\n",
       "      <td>26</td>\n",
       "      <td>21</td>\n",
       "      <td>75</td>\n",
       "    </tr>\n",
       "    <tr>\n",
       "      <th>Youth</th>\n",
       "      <td>71</td>\n",
       "      <td>69</td>\n",
       "      <td>68</td>\n",
       "      <td>208</td>\n",
       "    </tr>\n",
       "    <tr>\n",
       "      <th>All</th>\n",
       "      <td>371</td>\n",
       "      <td>361</td>\n",
       "      <td>346</td>\n",
       "      <td>1078</td>\n",
       "    </tr>\n",
       "  </tbody>\n",
       "</table>\n",
       "</div>"
      ],
      "text/plain": [
       "Segment   Gold  Platinum  Silver   All\n",
       "AgeGroup                              \n",
       "Adult      272       266     257   795\n",
       "Senior      28        26      21    75\n",
       "Youth       71        69      68   208\n",
       "All        371       361     346  1078"
      ]
     },
     "execution_count": 594,
     "metadata": {},
     "output_type": "execute_result"
    }
   ],
   "source": [
    "# To find out this relationship we will use Chi Square test\n",
    "\n",
    "# H0= No relation between category and segment;\n",
    "# Ha= There is a relationship between category and segment\n",
    "\n",
    "agecat_seg = pd.crosstab(customer_claim.AgeGroup, customer_claim.Segment, margins = True)\n",
    "agecat_seg\n"
   ]
  },
  {
   "cell_type": "code",
   "execution_count": 595,
   "id": "f411ecc0",
   "metadata": {},
   "outputs": [
    {
     "data": {
      "text/plain": [
       "(0.6654696397990999,\n",
       " 0.999896981610665,\n",
       " 9,\n",
       " array([[ 273.6038961 ,  266.22912801,  255.16697588,  795.        ],\n",
       "        [  25.81168831,   25.11595547,   24.07235622,   75.        ],\n",
       "        [  71.58441558,   69.65491651,   66.7606679 ,  208.        ],\n",
       "        [ 371.        ,  361.        ,  346.        , 1078.        ]]))"
      ]
     },
     "execution_count": 595,
     "metadata": {},
     "output_type": "execute_result"
    }
   ],
   "source": [
    "Chi_test = stats.chi2_contingency(observed= agecat_seg)\n",
    "Chi_test"
   ]
  },
  {
   "cell_type": "code",
   "execution_count": 596,
   "id": "92cde3e0",
   "metadata": {},
   "outputs": [
    {
     "name": "stdout",
     "output_type": "stream",
     "text": [
      "The chi square stat is 0.6654696397990999 and the p value is 0.999896981610665\n"
     ]
    }
   ],
   "source": [
    "print(\"The chi square stat is {} and the p value is {}\".format(Chi_test[0],Chi_test[1]))"
   ]
  },
  {
   "cell_type": "raw",
   "id": "d7f54092",
   "metadata": {},
   "source": [
    "Since the significance value of the test is greter than 0.05, we fail reject the null hypothesis. Therefore there is no relationship between age category and segment"
   ]
  },
  {
   "cell_type": "markdown",
   "id": "45ed7aff",
   "metadata": {},
   "source": [
    "### 18.The current year has shown a significant rise in claim amounts as compared to 2016-17 fiscal average which was  $10,000."
   ]
  },
  {
   "cell_type": "code",
   "execution_count": 597,
   "id": "d2e1c69a",
   "metadata": {},
   "outputs": [],
   "source": [
    "# Here we will check the pearson coeffecient.\n",
    "\n",
    "# The H0 =  No relationship between the 2016-17 claim amounts and current claim amounts,\n",
    "# Ha= Retionship exists;\n",
    "# the CI= 95%, p=0.05"
   ]
  },
  {
   "cell_type": "code",
   "execution_count": 598,
   "id": "326e2006",
   "metadata": {},
   "outputs": [
    {
     "name": "stderr",
     "output_type": "stream",
     "text": [
      "<ipython-input-598-7e146e6e6788>:1: SettingWithCopyWarning: \n",
      "A value is trying to be set on a copy of a slice from a DataFrame.\n",
      "Try using .loc[row_indexer,col_indexer] = value instead\n",
      "\n",
      "See the caveats in the documentation: https://pandas.pydata.org/pandas-docs/stable/user_guide/indexing.html#returning-a-view-versus-a-copy\n",
      "  customer_claim[\"Year\"]=customer_claim['claim_month'].dt.year\n"
     ]
    }
   ],
   "source": [
    "customer_claim[\"Year\"]=customer_claim['claim_month'].dt.year\n",
    "#current year as per the data given in 2018\n",
    "Current_year= customer_claim.loc[customer_claim.Year == 2018][\"claim_amount\"]\n",
    "amt_2016_17= customer_claim.loc[customer_claim.Year==2017][\"claim_amount\"]\n"
   ]
  },
  {
   "cell_type": "code",
   "execution_count": 612,
   "id": "e2103ab7",
   "metadata": {},
   "outputs": [
    {
     "data": {
      "text/plain": [
       "12766.279230540173"
      ]
     },
     "execution_count": 612,
     "metadata": {},
     "output_type": "execute_result"
    }
   ],
   "source": [
    "Current_year.mean()"
   ]
  },
  {
   "cell_type": "code",
   "execution_count": 614,
   "id": "1128e434",
   "metadata": {},
   "outputs": [
    {
     "data": {
      "text/plain": [
       "12285.735149288215"
      ]
     },
     "execution_count": 614,
     "metadata": {},
     "output_type": "execute_result"
    }
   ],
   "source": [
    "amt_2016_17.mean()"
   ]
  },
  {
   "cell_type": "code",
   "execution_count": 611,
   "id": "a84458c6",
   "metadata": {},
   "outputs": [
    {
     "name": "stdout",
     "output_type": "stream",
     "text": [
      "(0.01102040074026485, 0.8089124688322884)\n",
      "(-0.011159180814975078, 0.8065533715712296)\n"
     ]
    }
   ],
   "source": [
    "#performing pearson coeffecient\n",
    "print(stats.pearsonr(Current_year,amt_2016_17.head(484)))\n",
    "\n",
    "print(stats.pearsonr(Current_year,amt_2016_17.tail(484)))\n"
   ]
  },
  {
   "cell_type": "code",
   "execution_count": 615,
   "id": "9bc662c8",
   "metadata": {
    "scrolled": true
   },
   "outputs": [
    {
     "name": "stdout",
     "output_type": "stream",
     "text": [
      "Hence , we fail to reject H0 and concludes that there is no relationship between the 2016-17 claim amounts and current claim amounts\n"
     ]
    }
   ],
   "source": [
    "print(\"Hence , we fail to reject H0 and concludes that there is no relationship between the 2016-17 claim amounts and current claim amounts\")"
   ]
  },
  {
   "cell_type": "markdown",
   "id": "ace388e3",
   "metadata": {},
   "source": [
    "### 19. Is there any difference between age groups and insurance claims?"
   ]
  },
  {
   "cell_type": "code",
   "execution_count": null,
   "id": "131a943a",
   "metadata": {},
   "outputs": [],
   "source": [
    "# Here we will perform Ftest ANOVA\n",
    "# H0 : mean(AgeGroup[Youth]) == mean(AgeGroup[Adult]) (No difference between age groups and insurance claims or No influence of age groups on insurance claims) Ha : mean(AgeGroup[Youth]) != mean(AgeGroup[Adult]) (There is some difference between age groups and insurance claims or there is some influence of age groups on insurance claims)"
   ]
  },
  {
   "cell_type": "code",
   "execution_count": 569,
   "id": "f1122ad3",
   "metadata": {},
   "outputs": [
    {
     "data": {
      "text/plain": [
       "10      4.0\n",
       "11      3.0\n",
       "12      1.0\n",
       "15      1.0\n",
       "26      1.0\n",
       "       ... \n",
       "1048    1.0\n",
       "1067    5.0\n",
       "1078    3.0\n",
       "1081    1.0\n",
       "1084    1.0\n",
       "Name: total_policy_claims, Length: 208, dtype: object"
      ]
     },
     "execution_count": 569,
     "metadata": {},
     "output_type": "execute_result"
    }
   ],
   "source": [
    "age_group_1 = customer_claim['total_policy_claims'].loc[customer_claim['AgeGroup']==\"Youth\"]\n",
    "age_group_1 "
   ]
  },
  {
   "cell_type": "code",
   "execution_count": 570,
   "id": "b52a9648",
   "metadata": {},
   "outputs": [
    {
     "data": {
      "text/plain": [
       "0       1.0\n",
       "1       3.0\n",
       "3       6.0\n",
       "5       1.0\n",
       "7       2.0\n",
       "       ... \n",
       "1076    3.0\n",
       "1077    1.0\n",
       "1080    1.0\n",
       "1082    2.0\n",
       "1083    4.0\n",
       "Name: total_policy_claims, Length: 795, dtype: object"
      ]
     },
     "execution_count": 570,
     "metadata": {},
     "output_type": "execute_result"
    }
   ],
   "source": [
    "age_group_2 = customer_claim['total_policy_claims'].loc[customer_claim['AgeGroup']==\"Adult\"]\n",
    "age_group_2"
   ]
  },
  {
   "cell_type": "code",
   "execution_count": 571,
   "id": "f70964fe",
   "metadata": {},
   "outputs": [
    {
     "name": "stdout",
     "output_type": "stream",
     "text": [
      "The f-value is 0.9080839705107974 and the p value is 0.34085335479229917\n",
      "We fail to reject null hypothesis\n"
     ]
    }
   ],
   "source": [
    "# Perfrom the Anova\n",
    "anova = stats.f_oneway(age_group_1,age_group_2)\n",
    "# Statistic :  F Value\n",
    "f = anova.statistic\n",
    "p = anova.pvalue\n",
    "print(\"The f-value is {} and the p value is {}\".format(f,p))\n",
    "if(p<0.05):\n",
    "    print('We reject null hypothesis')\n",
    "else:\n",
    "    print('We fail to reject null hypothesis')\n"
   ]
  },
  {
   "cell_type": "raw",
   "id": "ad3cfe2e",
   "metadata": {},
   "source": [
    "Since the significance value of the test is greater than 0.05, we fail reject the null hypothesis. Therefore, there is no difference between age groups and insurance claims or No influence of age groups on insurance claims"
   ]
  },
  {
   "cell_type": "markdown",
   "id": "cbe6db35",
   "metadata": {},
   "source": [
    "### 20.Is there any relationship between total number of policy claims and the claimed amount?"
   ]
  },
  {
   "cell_type": "code",
   "execution_count": 574,
   "id": "4af9a3c5",
   "metadata": {},
   "outputs": [
    {
     "name": "stderr",
     "output_type": "stream",
     "text": [
      "<ipython-input-574-ac236b59ff85>:1: SettingWithCopyWarning: \n",
      "A value is trying to be set on a copy of a slice from a DataFrame.\n",
      "Try using .loc[row_indexer,col_indexer] = value instead\n",
      "\n",
      "See the caveats in the documentation: https://pandas.pydata.org/pandas-docs/stable/user_guide/indexing.html#returning-a-view-versus-a-copy\n",
      "  customer_claim['total_policy_claims'] = pd.to_numeric(customer_claim['total_policy_claims'])\n"
     ]
    }
   ],
   "source": [
    "customer_claim['total_policy_claims'] = pd.to_numeric(customer_claim['total_policy_claims'])"
   ]
  },
  {
   "cell_type": "code",
   "execution_count": 575,
   "id": "095b42e2",
   "metadata": {},
   "outputs": [
    {
     "data": {
      "text/plain": [
       "-0.022392720732099896"
      ]
     },
     "execution_count": 575,
     "metadata": {},
     "output_type": "execute_result"
    }
   ],
   "source": [
    "#Correlation\n",
    "customer_claim.total_policy_claims.corr(other= customer_claim.claim_amount)\n",
    "# As the correlation is negative the number of policy claims in inversely propotional to the claimed amount."
   ]
  },
  {
   "cell_type": "raw",
   "id": "3aa61167",
   "metadata": {},
   "source": []
  }
 ],
 "metadata": {
  "kernelspec": {
   "display_name": "Python 3",
   "language": "python",
   "name": "python3"
  },
  "language_info": {
   "codemirror_mode": {
    "name": "ipython",
    "version": 3
   },
   "file_extension": ".py",
   "mimetype": "text/x-python",
   "name": "python",
   "nbconvert_exporter": "python",
   "pygments_lexer": "ipython3",
   "version": "3.8.8"
  }
 },
 "nbformat": 4,
 "nbformat_minor": 5
}
